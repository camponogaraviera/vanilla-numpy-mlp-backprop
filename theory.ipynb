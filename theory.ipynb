{
 "cells": [
  {
   "cell_type": "markdown",
   "id": "14433a40",
   "metadata": {
    "id": "14433a40"
   },
   "source": [
    "<!-- Title: -->\n",
    "<div align=\"center\">\n",
    "  <h1><b> Artificial Neural Networks</b>\n",
    "  <h2><b>Theory</b></h2>\n",
    "</div>\n",
    "<br>"
   ]
  },
  {
   "cell_type": "code",
   "execution_count": null,
   "id": "h_3woJe6Zf5P",
   "metadata": {
    "executionInfo": {
     "elapsed": 16,
     "status": "ok",
     "timestamp": 1681068069358,
     "user": {
      "displayName": "Lucas Camponogara Viera",
      "userId": "14322290658374940800"
     },
     "user_tz": 180
    },
    "id": "h_3woJe6Zf5P"
   },
   "outputs": [],
   "source": [
    "import matplotlib.pyplot as plt\n",
    "from typing import List\n",
    "import tensorflow as tf\n",
    "from numpy import exp\n",
    "from math import log2\n",
    "import numpy as np"
   ]
  },
  {
   "cell_type": "markdown",
   "id": "8ac5d87f",
   "metadata": {
    "jp-MarkdownHeadingCollapsed": true
   },
   "source": [
    "# <font color='orange'> Blueprint of a Neural Network </font><a name=\"Implementation\" />"
   ]
  },
  {
   "cell_type": "markdown",
   "id": "1873896c-13b3-4ea1-9c4f-51f85105fe8b",
   "metadata": {
    "jp-MarkdownHeadingCollapsed": true
   },
   "source": [
    "## Type of Models"
   ]
  },
  {
   "cell_type": "markdown",
   "id": "ee1a452c-f7b9-47e8-8c3f-df1e128346f7",
   "metadata": {},
   "source": [
    "- **Discriminative model:** these models aim to learn the boundary between classes. They focus on modeling the conditional probability $P(y | x)$, where $x$\n",
    "is the input data and $y$ is the label or output. The goal is to directly predict the label or output given the input data. Examples: BERT (bidirectional and encoder-based) used to predict hidden words in a sentence, text classification tasks, sentiment prediction and document categorization.\n",
    "\n",
    "- **Generative model:** these models focus on modeling the joint probability $P(x,y)$. Examples: Naive Bayes, Gaussian Mixture Models (GMM), Hidden Markov Models (HMM), GPT (decoder-based), and T5.\n",
    "\n",
    "- **Bidirectional model:** the model takes into account the context from both the left (preceding words) and the right (following words) of a given word in a sentence during training and inference."
   ]
  },
  {
   "cell_type": "markdown",
   "id": "74589def-ed57-465d-a20f-db5bf8a44933",
   "metadata": {
    "jp-MarkdownHeadingCollapsed": true
   },
   "source": [
    "## Architecture"
   ]
  },
  {
   "cell_type": "markdown",
   "id": "e5b4beb9",
   "metadata": {},
   "source": [
    "- **Layers:**\n",
    "    - **Input layer:** the first layer of the neural network (NN) containing one or more neurons where each neuron corresponds to a single normalized (preprocessed) feature of the input data.\n",
    "    - **Hidden layer:** common name given to all layers located between the input layer and the output layer.\n",
    "    - **Output layer:** is the final layer of the neural network that produces the network's predictions, and it contains a number of neurons (also known as units) corresponding to the number of output classes or features to be predicted in the task being solved.\n",
    "    - **Dense layer:** are fully-connected feedforward layers, i.e., each neuron in the previous layer is connected to every neuron in the next layer.\n",
    "    - **Convolutional layer:** a layer that applies filters (a.k.a kernels) to input data to detect features (edges, textures, shapes) and patterns. These filters are trainable parameters, which means their values are updated during the training process to learn relevant features from the data. Works well for structured data such as images due to, but not only, translation invariance.\n",
    "    - **Dense blocks a.k.a densely connected convolutional layers:** the output feature map of each layer is concatenated with the output of all preceding layers along the channel dimension and fed as input to the next layer."
   ]
  },
  {
   "cell_type": "markdown",
   "id": "6581a81e-acf2-4394-b3b3-6009f4665e75",
   "metadata": {},
   "source": [
    "- **Neurons:** units of the NN used to store a value. A single layer of the NN could have one or more such neurons.\n",
    "\n",
    "- **Weights a.k.a synapses:** are the trainable parameters in a neural network that represent the strengths of connections between neurons and are adjusted during the training/optimization process. If a Dense layer $l_j$ has $n$ neurons and the previous layer $l_{j-1}$ has $m$ neurons, then there will be a total of $n*m$ weight (synapse) connections between the two layers, i.e, $n*m$ values in the weight matrix.\n",
    "\n",
    "- **Bias:** is an additional constant term added to the weighted sum of inputs for each neuron in a layer, i.e, there is one bias per neuron in a `Dense layer`.\n",
    "\n",
    "- **Activation function:** is a non-linear function applied to the output of each neuron in a layer. It introduces non-linearity to the model, allowing it to learn complex patterns in the data. In a `Dense layer`, each neuron has its own activation function applied to its input value, which produces the neuron's output that is passed to the next layer as the input.\n",
    "\n",
    "- **Loss function a.k.a error function:** the target function to be minimized so that predicted values get closer and closer to ground truth values.\n",
    "\n",
    "- **Techniques:** dropout, batch normalization, skip connection, residual block, Max Pooling, Max Unpooling, weight initialization, etc."
   ]
  },
  {
   "cell_type": "markdown",
   "id": "12c12d88-7715-49dc-ac37-36d4dcd279af",
   "metadata": {},
   "source": [
    "- **Mixture of Experts (MoE)**: is a neural network architecture where multiple \"experts\" (which are typically feedforward layers) are trained in parallel.\n",
    "    - In LLMs, the `feedforward layer` of the transformer block is replaced with N other feedforward layers or experts. The input is offloaded to the different experts through a routing mechanism.\n",
    "    - The `mixture part refers to a gating mechanism` that dynamically selects which expert to activate based on the input's characteristics. This contrasts to a traditional multi-headed attention network, where each head usually processes the same data or task.\n",
    "    - The model is trained on a single large dataset where different experts specialize in different features or regions of the data.\n",
    "    - This helps scale large AI models efficiently by activating only a subset of the total parameters during inference.\n",
    "    - `Dense MOE`: input tokens are distributed across all experts, i.e., all experts in the model are active simultaneously for each input token. Outputs are then combined using a gating mechanism. This is computationally expensive and does not scale well.\n",
    "    - `Sparse MOE`: only a subset of experts is activated per input. Much more efficient, as fewer experts are used per inference.\n",
    " \n",
    "**Question:** How does the gating mechanism of mixture of experts knows which model to select based on the input's characteristics?\n",
    "\n",
    "**Answer:** the gating (a.k.a router) function is a Feedforward Neural Network (FFNN) trained alongside the experts, allowing it to learn optimal routing strategies based on input features.\n",
    "\n",
    "The gating FFNN outputs a matrix of weights $H(x)$:\n",
    "\n",
    "$$ H_i(x) =  (W_i x_{i-1} + b_i) $$\n",
    "\n",
    "The router mechanism then outputs a probability distribution over the available experts. For each expert there is a prob. dist. given by:\n",
    "\n",
    "$$ g_i(x) = \\text{Softmax } (H_i(x))$$\n",
    "\n",
    "The final output is a weighted sum of the expert outputs:\n",
    "\n",
    "$$ y = \\sum_i g_i(x) E_i (x)$$\n",
    "\n",
    "where $E_i(x)$ is the output of expert $i$ and $g_i(x)$ is its assigned probability determined by the gating mechanism."
   ]
  },
  {
   "cell_type": "markdown",
   "id": "39ed1a60-f760-41b1-992a-8af077764ea5",
   "metadata": {},
   "source": [
    "- [Hydra-MoE](https://huggingface.co/HydraLM): ..."
   ]
  },
  {
   "cell_type": "markdown",
   "id": "956793b9-36d5-4c5d-8b4d-f59311608377",
   "metadata": {
    "jp-MarkdownHeadingCollapsed": true
   },
   "source": [
    "## Number of trainable parameters per layer"
   ]
  },
  {
   "cell_type": "markdown",
   "id": "f33e0713-42de-400a-b6be-3e020aedbbfb",
   "metadata": {},
   "source": [
    "Trainable parameters are the weights and the biases."
   ]
  },
  {
   "cell_type": "markdown",
   "id": "4e007a0b-ba6b-40c0-b15c-d9513e56f533",
   "metadata": {},
   "source": [
    "- **Activation function:** 0 (no trainable parameters).\n",
    "\n",
    "- **Dense layer:** (input_size + 1 bias) * number_of_neurons.\n",
    "\n",
    "- **Bias:** 1*number_of_neurons in the current layer.\n",
    "\n",
    "- **Flatten:** 0 (no trainable parameters).\n",
    "<br>"
   ]
  },
  {
   "cell_type": "markdown",
   "id": "c2170c4d-9c1f-4326-bd91-7d8229d17627",
   "metadata": {},
   "source": [
    "- **Conv2D layer:** (filter_height * filter_width * input_channels + 1 bias) * number_of_filters.\n",
    "\n",
    "Example: \n",
    "\n",
    "```python\n",
    "nn.Conv2d(in_channels=1, out_channels=32, kernel_size=(3,3), padding=1, stride=1, bias=True)\n",
    "```\n",
    "\n",
    "- Input channels ($C_{in}$): 1.\n",
    "- 0utput channels ($N_{filters}$): 32.\n",
    "- Kernel size (height x width): 3x3.\n",
    "- Each filter (output channel) has one bias term.\n",
    "- Padding and stride do not affect the number of parameters, they only determine the output dimensions of the feature map.\n",
    "- \n",
    "Total parameters: (3x3x1+1)x32 = 320. "
   ]
  },
  {
   "cell_type": "markdown",
   "id": "d8f79336-f0f9-4461-916b-de9a0a0f55a9",
   "metadata": {
    "jp-MarkdownHeadingCollapsed": true
   },
   "source": [
    "## Encoding"
   ]
  },
  {
   "cell_type": "markdown",
   "id": "bcb007c3-2e6b-440c-a0c1-7e24aa703a6d",
   "metadata": {},
   "source": [
    "When dealing with multi-class classification in deep learning, one-hot encoding isn't always the best approach, especially when the number of classes is large. Here are alternative methods:\n",
    " \n",
    "- `Label Encoding (a.k.a Integer Encoding)`:\n",
    "    - Assigns a unique integer to each class.\n",
    "    - Useful for tree-based models but problematic for neural networks due to ordinal relationships being introduced."
   ]
  },
  {
   "cell_type": "markdown",
   "id": "00de390f-8e8f-448d-a07a-89cd75b925e4",
   "metadata": {},
   "source": [
    "- `Target Encoding (a.k.a Mean Encoding)`:\n",
    "   - Replaces each categorical input variable (not the target) with the mean of the target variable using only the training data. The target should have a meaningful average per category (e.g., customer churn rate, average price).\n",
    "   - It can lead to data leakage if the entire dataset (training, validation, and test sets) is used to calculate the mean if it is not handled properly (e.g., using K-fold cross-validation)."
   ]
  },
  {
   "cell_type": "markdown",
   "id": "8d03e6a9-ca5b-4fc6-b78a-c9247c8a5f0e",
   "metadata": {},
   "source": [
    "- Example of a simple logistic regression model with one neuron for a binary classification task such as predicting the churn (0 or 1):\n",
    "    - Input categorical variable: \"Subscription Plan\" (Basic, Standard, Premium).\n",
    "    - Target variable: \"Churn\" (1: 'Customer left', 0: 'Customer stayed')\n",
    "    - Activation function: sigmoid (binary classification).\n",
    "    - Loss: Binary Cross-Entropy Loss.\n",
    "\n",
    "| Customer ID | Subscription Plan | Churn |\n",
    "| ----------- | ----------------- | ----- |\n",
    "| 1           | Basic             | 1     |\n",
    "| 2           | Standard          | 0     |\n",
    "| 3           | Standard          | 1     |\n",
    "| 4           | Premium           | 0     |\n",
    "| 5           | Premium           | 1     |\n",
    "| 6           | Premium           | 0     |\n",
    "\n",
    "1. **Calculate the mean of the target variable:**\n",
    "\n",
    "- Basic: (1) / 1 = 1\n",
    "- Standard: (0 + 1) / 2 = 0.5\n",
    "- Premium: (0 + 1 + 0) / 3 = 0.333\n",
    "\n",
    "2. **Replace categorical values with encoded values:**\n",
    "\n",
    "| Customer ID | Subscription Plan | Churn | Encoded Plan (x) |\n",
    "| ----------- | ----------------- | ----- | ------------------------------ |\n",
    "| 1           | Basic             | 1     | 1                          |\n",
    "| 2           | Standard          | 0     | 0.5                          |\n",
    "| 3           | Standard          | 0     | 0.5                          |\n",
    "| 4           | Premium           | 0     | 0.333                          |\n",
    "| 5           | Premium           | 1     | 0.333                          |\n",
    "| 6           | Premium           | 0     | 0.333                          |\n",
    "\n",
    "3. **Computing weighted sum $s=w⋅x+b$ and activation $\\hat{y} = \\sigma(s)$.**\n",
    "\n",
    "Setting $w = 4.0$ and $b=-1.5$:\n",
    "\n",
    "| Customer ID | Encoded Plan (x) | s = wx + b | $\\hat{y}$ (predicted prob) | $y$ (groun truth - churn) |\n",
    "| ----------- | ---------------- | ---------- | -------------------------- | ---------- |\n",
    "| 1           | 1                | 2.5        | 0.924                      | 1          |\n",
    "| 2           | 0.5              | 0.5        | 0.622                      | 0          |\n",
    "| 3           | 0.5              | 0.5        | 0.622                      | 0          |\n",
    "| 4           | 0.333            | -0.168     | 0.458                      | 0          |\n",
    "| 5           | 0.333            | -0.168     | 0.458                      | 1          |\n",
    "| 6           | 0.333            | -0.168     | 0.458                      | 0          |\n",
    "\n",
    "4. **Computing the Binary Cross-Entropy Loss:**\n",
    "\n",
    "$$BCE_{loss} = \\frac{1}{N}\\sum_{i=1}^N BCE(y_i, \\hat{y}_i) = - \\frac{1}{6}\\sum_{i=1}^6 y_i \\cdot \\mathrm{log}\\; {\\hat{y}}_i + (1-y_i) \\cdot \\mathrm{log}\\; (1-{\\hat{y}}_i) \\approx ...$$"
   ]
  },
  {
   "cell_type": "code",
   "execution_count": 27,
   "id": "7e4ce298-c6d4-4407-a2f2-68cb34529f06",
   "metadata": {},
   "outputs": [
    {
     "data": {
      "text/plain": [
       "0.4580985059860437"
      ]
     },
     "execution_count": 27,
     "metadata": {},
     "output_type": "execute_result"
    }
   ],
   "source": [
    "s = -0.168\n",
    "activation = 1/(1+np.exp(-s))\n",
    "activation"
   ]
  },
  {
   "cell_type": "markdown",
   "id": "d4dbafe9-5aa4-4959-9779-eecd03b720c8",
   "metadata": {},
   "source": [
    "- `Word Embeddings (for Categorical Data)`:\n",
    "    - Trainable embeddings that map categories into continuous vector spaces.\n",
    "    - Helps capture semantic relationships between categories.\n",
    "    - Used in NLP but can be applied to general categorical data.\n",
    " \n",
    "In LLMs:\n",
    "\n",
    "- `Token embedding (a.k.a context vector):` is the representation (encoding) of a token by a continuous vector in a vector space. For autoregressive models (e.g., GPT), which predict one word at a time, the input-target pairs are generated on-the-fly with the sliding window approach."
   ]
  },
  {
   "cell_type": "markdown",
   "id": "323011e1-5e0e-4a65-921e-eb1f39d040c0",
   "metadata": {
    "jp-MarkdownHeadingCollapsed": true
   },
   "source": [
    "## Learning"
   ]
  },
  {
   "cell_type": "markdown",
   "id": "6c19c68c-349a-405d-a5ba-118ff9304a3a",
   "metadata": {},
   "source": [
    "- **Pre-training:** training the model on a particular dataset before fine-tuning.\n",
    "\n",
    "- **Transfer learning:** the neural network architecture and pre-trained weights of a pre-trained model are used as the backbone of a new neural network model. The final layer(s) of this new model is(are) then adjusted (e.g., changing the activation function) to match the desired task. The pre-trained weights can be frozen to retain their original feature representations, while the new layers are trained to adapt to the new task. Finally, pre-trained weights can be unfrozen and updated during the final training.\n",
    "\n",
    "- **RLHF (reinforcement learning with human feedback):** a method to improve the model's performance based on human feedback.\n",
    "- **Zero-shot learning:** the model is able to generalize to unseen tasks without prior examples.\n",
    "- **Few-shot learning:** the model is able to learn from a small number of examples provided as input.\n",
    "- **Few-shot setting:** when examples of the target are provided in the input.\n",
    "- **Zero-shot setting:** no examples of the target are provided in the input."
   ]
  },
  {
   "cell_type": "markdown",
   "id": "3beab179-939e-45ff-8dd8-1cee2f96b2fd",
   "metadata": {
    "jp-MarkdownHeadingCollapsed": true
   },
   "source": [
    "## Fine-tuning"
   ]
  },
  {
   "cell_type": "markdown",
   "id": "1d71bd84-e02f-477c-9406-7bb5f4c8c0ae",
   "metadata": {},
   "source": [
    "- **Fine-tuning**: is a subset of transfer learning. It is a broader term that encompasses any method of adapting a `pretrained model` to a new task, typically using a specific `labeled dataset`. The existing model is initialized with its pretrained weights (e.g., a model trained on ImageNet for images or a large corpus for NLP). A labeled dataset specific to the target task is used. Some or all of the weights are updated during training.\n",
    "\n",
    "- **Regular fine-tuning**: the pretrained weights are directly updated during training, and the entire model (including the updated weights) is saved.\n",
    "\n",
    "- **Instruction fine-tuning**: consists of instruction-answer pairs. For example, an input text in English and the corresponding translated version in Chinese.\n",
    "\n",
    "- **Classification fine-tuning**: consists of input-label pairs. For example, input email with corresponding label (spam or non-spam).\n",
    "\n",
    "- **Low-Rank Adaptation (LoRA)**: is a Parameter-Efficient Fine-Tuning method designed to make fine-tuning more efficient by training only low-rank matrices ($W_A$ and $W_B$) instead of the entire model, while keeping the pre-trained weights frozen.\n",
    "    - The idea behind LoRA is to reduce memory usage and computational overhead by training only the low-rank matrices rather than the full pretrained matrix of weights.\n",
    "    - LoRA's approach is particularly useful for tasks requiring adaptation to new data with limited computational resources, as it avoids storing and fine-tuning the entire pretrained matrix of weights."
   ]
  },
  {
   "cell_type": "markdown",
   "id": "dbfd38ee-2225-4c56-b796-a281d61256e5",
   "metadata": {},
   "source": []
  },
  {
   "cell_type": "markdown",
   "id": "618db7c4-49dc-4912-a8eb-e7c7accecab5",
   "metadata": {},
   "source": []
  },
  {
   "cell_type": "markdown",
   "id": "06cf633e",
   "metadata": {
    "id": "06cf633e",
    "jp-MarkdownHeadingCollapsed": true
   },
   "source": [
    "# <font color='orange'> Rule-of-Thumbs </font><a name=\"Implementation\" />"
   ]
  },
  {
   "cell_type": "markdown",
   "id": "1baa8175",
   "metadata": {
    "id": "1baa8175"
   },
   "source": [
    "1. `Ockham's razor:` when there are two competing theories that make exactly the same predictions, the simpler one is better. In model complexity, the more complex the model, the more prone the model is to overfitting as the size of the dataset decreases. Therefore, one should always start with a baseline model.\n",
    "\n",
    "2. `Learning principle:` random features (noise) cannot be learned. In a data-driven approach, the dataset must share a pattern of meaningful representation.\n",
    "\n",
    "3. `Hold-out set:` it is a good practice to split the dataset into training, test, and validation.\n",
    "\n",
    "4. `Dataset size:` the larger the dataset, the higher the generalization of the model to unseen data.\n",
    "\n",
    "5. `Network depth:` the deeper the network (number of layers), the more information is extracted (learned).\n",
    "\n",
    "6. `Bias-variance trade-off:` while under-parametrization can cause bias (underfitting), over-parametrization can cause variance (overfitting). In mainstream machine learning, one tries to find a balance.\n",
    "\n",
    "7. `Double descent:` over-parametrization beyond certain interpolation threshold can lead to model generalization (good test performance). Moreover, as the size of the parameter vector to be optimized increases (as large as one million), the local minima get closer to the global minimum.\n",
    "\n",
    "8. `Batch size:` a larger batch size (increase memory resource) leads to a speed up in training and to a lower asymptotic test accuracy (classification), and hence a lower generalization to unseen data.\n",
    "\n",
    "9. `Learning rate:` a higher learning rate can speed-up training, however, too large a learning rate can make the loss function value to jiggle around the loss landscape and to never converge."
   ]
  },
  {
   "cell_type": "markdown",
   "id": "7704cba4",
   "metadata": {
    "id": "7704cba4",
    "jp-MarkdownHeadingCollapsed": true
   },
   "source": [
    "# <font color='orange'> Challenges in Neural Networks </font><a name=\"Implementation\" />"
   ]
  },
  {
   "cell_type": "markdown",
   "id": "a5845cf2",
   "metadata": {
    "id": "a5845cf2",
    "jp-MarkdownHeadingCollapsed": true
   },
   "source": [
    "## Overfitting"
   ]
  },
  {
   "cell_type": "markdown",
   "id": "e21cc377",
   "metadata": {
    "id": "e21cc377"
   },
   "source": [
    "- Overfitting occurs when the model has become too complex and has started to memorize the training data, leading to poor generalization performance on unseen data.\n",
    "- It can be seen when the training loss/accuracy is getting better over time while the validation loss/accuracy is degrading."
   ]
  },
  {
   "cell_type": "markdown",
   "id": "a2924544",
   "metadata": {
    "id": "a2924544",
    "jp-MarkdownHeadingCollapsed": true
   },
   "source": [
    "## Underfitting"
   ]
  },
  {
   "cell_type": "markdown",
   "id": "b360650a",
   "metadata": {
    "id": "b360650a"
   },
   "source": [
    "- Underfitting occurs when the model is too simple or when the training dataset is too shallow. \n",
    "- It appears when both training loss/accuracy and validation loss/accuracy are degrading."
   ]
  },
  {
   "cell_type": "markdown",
   "id": "dc3d5390-130c-4377-bec3-c48a64112d3b",
   "metadata": {
    "jp-MarkdownHeadingCollapsed": true
   },
   "source": [
    "## Vanishing Gradient"
   ]
  },
  {
   "cell_type": "markdown",
   "id": "cf9a12ae-29c8-4395-843a-3b5b8896408b",
   "metadata": {},
   "source": [
    "Vanishing gradient refers to a situation where the gradients of the loss function with respect to the weights become extremely small during the training process. \n",
    "\n",
    "This typically happens in deep neural networks with `many layers`, especially when using activation functions with derivatives that are close to zero, such as the `sigmoid or tanh` functions. As the value of the gradients goes to zero, they fail to provide information for weights update, leading to `slow or stalled learning`."
   ]
  },
  {
   "cell_type": "markdown",
   "id": "3f589689-bada-4dd6-b400-5ca05c036c6e",
   "metadata": {
    "jp-MarkdownHeadingCollapsed": true
   },
   "source": [
    "## Exploding Gradient"
   ]
  },
  {
   "cell_type": "markdown",
   "id": "4dd3a22c-805a-4734-b5e8-606e9273c588",
   "metadata": {},
   "source": [
    "The exploding gradient happens when the gradients of the loss function with respect to the weights become extremely large during training. \n",
    "\n",
    "This can happen in deep neural networks using `large learning rates` in the optimization process. The excessively large gradients lead to large updates to the model parameters. This will make the optimization overshoot the minima and compromise the convergence of weights to their optimal value, consequently causing `instability and erratic learning behavior`. "
   ]
  },
  {
   "cell_type": "markdown",
   "id": "4b435331",
   "metadata": {
    "id": "4b435331",
    "jp-MarkdownHeadingCollapsed": true
   },
   "source": [
    "# <font color='orange'> Techniques to Address the Challenges </font><a name=\"Implementation\" />"
   ]
  },
  {
   "cell_type": "markdown",
   "id": "6f2397ad",
   "metadata": {},
   "source": [
    "Popular techniques used in modern neural networks."
   ]
  },
  {
   "cell_type": "markdown",
   "id": "33f3a89a-3516-460d-8e65-d7f7302573a3",
   "metadata": {
    "jp-MarkdownHeadingCollapsed": true
   },
   "source": [
    "## Weight initialization"
   ]
  },
  {
   "cell_type": "markdown",
   "id": "f91b8bbf-9fd9-4902-bdca-a4f7012e13a4",
   "metadata": {},
   "source": [
    "Weight initialization is a procedure used to set appropriate initial values to the weights in the neural network, aiming to keep the variance of activations constant across layers. A good initialization helps to prevent vanishing and exploding gradients.\n",
    "\n",
    "Examples of initialization strategies include `Xavier` (also known as Glorot), `He`, and `LeCun`, each of which can use either a `normal` or `uniform` distribution variant. Normal and Uniform are types of distributions used in different initializations, not initialization strategies by themselves."
   ]
  },
  {
   "cell_type": "markdown",
   "id": "c52219e9",
   "metadata": {
    "id": "c52219e9",
    "jp-MarkdownHeadingCollapsed": true
   },
   "source": [
    "## Batchnormalization"
   ]
  },
  {
   "cell_type": "markdown",
   "id": "a3dce2b0",
   "metadata": {
    "id": "a3dce2b0"
   },
   "source": [
    "- Batchnormalization: used to normalize the outputs of the previous layer to have zero mean and unit variance by subtracting the batch mean and dividing by the batch standard deviation for each batch of outputs.\n",
    "- This helps with `training stability`, can `speed up training`, and `prevents overfitting` by adding noise to the outputs.\n",
    "\n",
    "Note: in both fully connected and convolutional layers, `Batchnormalization` is typically applied after the affine transformation (i.e., $Wx + b$) or the convolution operation). While `Batchnormalization` is typically applied before the activation function (e.g., Conv → BN → ReLU), this is not a strict rule."
   ]
  },
  {
   "cell_type": "markdown",
   "id": "903908d5",
   "metadata": {
    "id": "903908d5",
    "jp-MarkdownHeadingCollapsed": true
   },
   "source": [
    "## Dropout"
   ]
  },
  {
   "cell_type": "markdown",
   "id": "ee290c68",
   "metadata": {
    "id": "ee290c68"
   },
   "source": [
    "- Dropout: is a regularization used to `prevent overfitting` (increasing generalization) by randomly deactivating neurons during training.\n",
    "- It also reduces the need for `early stopping`.\n",
    "\n",
    "Note: it is generally not recommended to apply `Dropout` immediately after `Batchnormalization` in the same layer/block, as their effects can interfere. However, using both in different parts of the model can lead to better performance. In this case, `Batchnormalization` is generally applied before `Dropout`. In Keras (Functional API), `Dropout` is typically applied after the activation function."
   ]
  },
  {
   "cell_type": "markdown",
   "id": "e440d65b",
   "metadata": {
    "id": "e440d65b",
    "jp-MarkdownHeadingCollapsed": true
   },
   "source": [
    "## Skip Connection"
   ]
  },
  {
   "cell_type": "markdown",
   "id": "d73df680-e6cb-480e-871f-edc98612583c",
   "metadata": {},
   "source": [
    "A general term used to describe any connection in a neural network that bypasses one or more layers. These can take several forms:\n",
    "\n",
    "- Element-wise addition of the input to the output (e.g., as in ResNets).\n",
    "- Concatenation of input and output (e.g., as in DenseNets and U-Nets).\n",
    "- Direct copying or routing of features from earlier to later layers."
   ]
  },
  {
   "cell_type": "markdown",
   "id": "ef2def71-5b7b-4340-91d6-a9f684864213",
   "metadata": {},
   "source": [
    "Skip connections in `U-Nets` connect corresponding layers in the encoder and decoder paths. This facilitates:\n",
    "\n",
    "- Transfer of low-level spatial features from the encoder (downsampling path).\n",
    "- Recovery of spatial resolution and fine-grained details during the decoder (upsampling path).\n",
    "- Better segmentation output due to preserved localization information."
   ]
  },
  {
   "cell_type": "markdown",
   "id": "884d4d27-074c-4a71-9bb9-2a61771c270a",
   "metadata": {},
   "source": [
    "Residual Block (a.k.a. Residual Layer) is a specific type of skip connection introduced in `ResNets`. The core idea is:\n",
    "\n",
    "- The input tensor is added element-wise to the output of a few stacked layers (typically 2 or 3 convolutions),\n",
    "- This is often called a shortcut connection or identity mapping.\n",
    "\n",
    "- Example of basic residual block with two convolutional layers:\n",
    "    - Input → Conv → Activation → Conv → Output.\n",
    "    - Add input to the output of the second Conv layer.\n",
    "    - The sum is optionally passed through a final activation function (e.g., ReLU).\n",
    " \n",
    "This structure helps:\n",
    "\n",
    "- Mitigate vanishing gradients.\n",
    "- Improve training stability in deep networks.\n",
    "- Enable the training of much deeper architectures."
   ]
  },
  {
   "cell_type": "markdown",
   "id": "6e0255e7-8a5b-41af-af08-e4aa8021ac0e",
   "metadata": {
    "jp-MarkdownHeadingCollapsed": true
   },
   "source": [
    "## Linear Regularizations"
   ]
  },
  {
   "cell_type": "markdown",
   "id": "3bdd8bb7-f3de-4823-8e36-074911cf78be",
   "metadata": {},
   "source": [
    "- Ridge regression: a linear regression technique that uses `L2 regularization`, which adds to the cost function a penalty/regularization term proportional to the square of the magnitude of the weights. It prevents overfitting (that might be caused by `multicollinearity`) by shrinking weights, but it does not reduce any of them to zero.\n",
    "\n",
    "Considering the residual sum of squares (RSS) loss function:\n",
    "\n",
    "\\begin{eqnarray}\n",
    "RSS_{L_2}  &=& \\text{RSS} + L_2 \\\\\n",
    "&=& \\sum_{i=1}^{N} (y_i-\\hat{y}_i)^2 + \\lambda \\sum_{i=1}^L ||\\mathbf{W}^{(l)}||^2. \\\\\n",
    "&=& \\sum_{i=1}^{N} (y_i-\\hat{y}_i)^2 + \\lambda \\sum_{i=1}^L \\sum_{j,k} \\mathbf{w}_{jk}^2. \\\\\n",
    "\\end{eqnarray}\n",
    "\n",
    "where $L_2 = \\lambda \\sum_{i=1}^L ||\\mathbf{W}||^2$.\n",
    "\n",
    "Legend:\n",
    "\n",
    "- $y_i$: ground truth value (label) for the $i$-th data point (sample).\n",
    "- $\\hat{y}_i$: predicted value for the $i$-th data point (sample).\n",
    "- $L$ is the number of weight matrices in the neural network.\n",
    "- $\\mathbf{w}_{jk}^{2}$ is the square value of the $j$-th weight for the $i$-th matrix.\n",
    "- $\\lambda$ is the regularization coefficient, a value between 0 and 0.1."
   ]
  },
  {
   "cell_type": "markdown",
   "id": "17cacdd6-3ae3-4922-9adb-907df6e04b2d",
   "metadata": {},
   "source": [
    "- Lasso regression: a linear regression technique that uses `L1 regularization`, which adds a penalty/regularization proportional to the absolute value of the weights. This encourages sparsity by shrinking some weights exactly to zero, effectively performing feature selection.\n",
    "\n",
    "\\begin{eqnarray}\n",
    "LS_{L_1}  &=& \\min_{\\mathbf{w}} \\left\\{ \\text{RSS} + L_1 \\right\\} \\\\\n",
    "&=& \\min_{\\mathbf{w}} \\left\\{  \\text{RSS} + \\lambda \\sum_{i=1}^L ||\\mathbf{W}^{(l)}|| \\right\\} \\\\\n",
    "&=& \\min_{\\mathbf{w}} \\left\\{\\sum_{i=1}^{N} (y_i-\\hat{y}_i)^2 + \\lambda \\sum_{i=1}^L \\sum_{j,k} \\mathbf{w}_{jk}  \\right\\}.\n",
    "\\end{eqnarray}"
   ]
  },
  {
   "cell_type": "markdown",
   "id": "e5b62cc5-a2e7-46e3-9a95-76148b0ffed1",
   "metadata": {},
   "source": [
    "References: \n",
    "\n",
    "[1] https://www.ibm.com/think/topics/ridge-regression\n",
    "\n",
    "[2] https://www.ibm.com/think/topics/lasso-regression"
   ]
  },
  {
   "cell_type": "markdown",
   "id": "0cd0c901-6a6a-49c8-b45f-c66117dad6af",
   "metadata": {
    "jp-MarkdownHeadingCollapsed": true
   },
   "source": [
    "## Number of trainable parameters per technique"
   ]
  },
  {
   "cell_type": "markdown",
   "id": "22dd7dd2-4d57-4936-9004-bfccf1b812a0",
   "metadata": {},
   "source": [
    "- **BatchNormalization:** 2 * number_of_filters. Two trainable parameters per filter (gamma and beta). \n",
    "<br>\n",
    "\n",
    "- **Dropout:** 0 (no trainable parameters).\n",
    "<br>\n",
    "\n",
    "- **Skip connection:** 0 (no trainable parameters).\n",
    "<br>\n",
    "\n",
    "- **MaxPooling2D:** 0 (no trainable parameters).\n",
    "<br>"
   ]
  },
  {
   "cell_type": "markdown",
   "id": "74d5fcaf",
   "metadata": {
    "id": "74d5fcaf",
    "jp-MarkdownHeadingCollapsed": true
   },
   "source": [
    "# <font color='orange'> Activation Functions in Python</font><a name=\"Implementation\" />"
   ]
  },
  {
   "cell_type": "markdown",
   "id": "49656421",
   "metadata": {
    "id": "49656421"
   },
   "source": [
    "Activation functions are used to add nonlinearity to the neural network model so that the neural network becomes an **expressive nonlinear function approximator**.\n",
    "\n",
    "- For binary classification (only two target classes): use `sigmoid`.\n",
    "- For multi-label classification (more than two non-exclusive targets, in which multiple target classes can happen at the same time): `use sigmoid`.\n",
    "- For multi-class classification (more than two mutually exclusive targets): use `softmax`."
   ]
  },
  {
   "cell_type": "markdown",
   "id": "3YbdBPcKFfRs",
   "metadata": {
    "id": "3YbdBPcKFfRs",
    "jp-MarkdownHeadingCollapsed": true
   },
   "source": [
    "## Sigmoid"
   ]
  },
  {
   "cell_type": "markdown",
   "id": "T0HKcS0D6Y_o",
   "metadata": {
    "id": "T0HKcS0D6Y_o"
   },
   "source": [
    "The sigmoid activation function is used for binary classification with a `single neuron`. It is also used for multi-label classification when there is more than one right answer, in this case the probabilities produced by a sigmoid are independent (non-exclusive outputs), i.e, they are not constrained to add up to one. \n",
    "\n",
    "\\begin{align}\n",
    "sigmoid(x) = \\frac{1}{1+e^{-x}}.\n",
    "\\end{align}\n",
    "\n",
    "- Input: [-infinity, infinity]. \n",
    "- Output: [0, 1]. \n",
    "- The sum of the probabilities is not equal to 1. \n",
    "\n",
    "Why is sigmoid activation used for binary or multi-label classification tasks if their outputs do not add up to 1 as probabilities should? Because the outputs do not represent a probability distribution over all classes, rather individual probabilities."
   ]
  },
  {
   "cell_type": "code",
   "execution_count": 4,
   "id": "fbuOyci6KMQL",
   "metadata": {
    "colab": {
     "base_uri": "https://localhost:8080/",
     "height": 0
    },
    "executionInfo": {
     "elapsed": 328,
     "status": "ok",
     "timestamp": 1681068069671,
     "user": {
      "displayName": "Lucas Camponogara Viera",
      "userId": "14322290658374940800"
     },
     "user_tz": 180
    },
    "id": "fbuOyci6KMQL",
    "outputId": "050b29c7-f41b-40f3-cd78-8434e1b0b594"
   },
   "outputs": [
    {
     "data": {
      "image/png": "[encoded data removed]",
      "text/plain": [
       "<Figure size 640x480 with 1 Axes>"
      ]
     },
     "metadata": {},
     "output_type": "display_data"
    }
   ],
   "source": [
    "def sigmoid(x: np.ndarray) -> np.ndarray:\n",
    "    '''\n",
    "    Applies the sigmoid activation function on input values.\n",
    "\n",
    "    Args:\n",
    "      - x (numpy.ndarray): array of values from each neuron of a given layer, ranging from -infinity to infinity.\n",
    "\n",
    "    Returns:\n",
    "      - activation (numpy.ndarray): array of sigmoid activation values between 0 and 1. \n",
    "                                    Outputs are non-exclusive, i.e, the sum of the values don't add up to 1.\n",
    "    '''\n",
    "    return 1.0 / (1 + np.exp(-x))\n",
    "\n",
    "#input_ = [x for x in range(-20, 20)] # List of 40 numbers from -20 to 20.\n",
    "input_ = np.linspace(-10, 10, 100).astype('float32') # Array of 100 numbers from -10 to 10.\n",
    "#input_ = np.arange(-20, 20, .1).astype('float32') # Array with Start: -20, Stop: 20, Step: 1.\n",
    "output = [sigmoid(x) for x in input_]\n",
    "\n",
    "plt.plot(input_, output)\n",
    "plt.xlabel(\"Input\")\n",
    "plt.ylabel(\"Sigmoid Output\")\n",
    "plt.title(\"Sigmoid Function\")\n",
    "plt.grid(True)\n",
    "plt.show()"
   ]
  },
  {
   "cell_type": "markdown",
   "id": "GOeK7f48Fkx-",
   "metadata": {
    "id": "GOeK7f48Fkx-",
    "jp-MarkdownHeadingCollapsed": true
   },
   "source": [
    "## Softmax"
   ]
  },
  {
   "cell_type": "markdown",
   "id": "LTm_0php7Crd",
   "metadata": {
    "id": "LTm_0php7Crd"
   },
   "source": [
    "The softmax activation function is used for multi-class classification. It normalizes the outputs to produce a probability distribution over all classes.\n",
    "\n",
    "\\begin{align}\n",
    "softmax(x_i) = \\frac{e^{x_i}}{\\sum{e^{x_j}}}.\n",
    "\\end{align} \n",
    "\n",
    "- Input: [-infinity, infinity]. \n",
    "- Output: [0, 1]. \n",
    "- The sum of the probabilities must be equal to 1.\n",
    "\n",
    "A more stable version for NumPy implementation is:\n",
    "\n",
    "\\begin{align}\n",
    "softmax(x_i) = \\frac{\\gamma e^{x_i}}{\\gamma \\sum{e^{x_j}}} = \\frac{e^{x_i+ln(\\gamma)}}{\\sum{e^{x_j+ln(\\gamma)}}}.\n",
    "\\end{align} \n",
    "\n",
    "A common choice is $ln(\\gamma) = -max(x)$."
   ]
  },
  {
   "cell_type": "code",
   "execution_count": 5,
   "id": "ab9f557f",
   "metadata": {},
   "outputs": [
    {
     "name": "stdout",
     "output_type": "stream",
     "text": [
      "Sum of probabilities: 0.9999999\n"
     ]
    },
    {
     "data": {
      "image/png": "[encoded data removed]",
      "text/plain": [
       "<Figure size 640x480 with 1 Axes>"
      ]
     },
     "metadata": {},
     "output_type": "display_data"
    }
   ],
   "source": [
    "def softmax(x: np.ndarray) -> np.ndarray:\n",
    "    '''\n",
    "    Compute the softmax activation function while handling numerical stability.\n",
    "\n",
    "    Args:\n",
    "      - x (numpy.ndarray): array of values in the range [-infinity, +infinity].\n",
    "\n",
    "    Returns:\n",
    "      - activation (numpy.ndarray): array of softmax activation values in the range [0, 1].\n",
    "                                    Outputs are exclusive, i.e, the sum of the values add up to 1.    \n",
    "    '''\n",
    "    epsilon = 1e-8 # Small number to avoid division by zero.\n",
    "    expX = np.exp(x - np.max(x)) # Subtracting the maximum value for numerical stability.\n",
    "    #return expX / (np.sum(expX) + epsilon)\n",
    "    return expX / (expX.sum(keepdims=True) + epsilon)\n",
    "\n",
    "input_ = np.linspace(-10, 10, 100).astype('float32') # Array of 100 numbers from -10 to 10.\n",
    "#input_ = np.random.rand(2, 10).astype('float32')\n",
    "output = softmax(input_)\n",
    "\n",
    "print('Sum of probabilities:',output.sum())\n",
    "plt.plot(input_, output)\n",
    "plt.xlabel(\"Input\")\n",
    "plt.ylabel(\"Softmax Output\")\n",
    "plt.title(\"Softmax Function\")\n",
    "plt.grid(True)\n",
    "plt.show()"
   ]
  },
  {
   "cell_type": "code",
   "execution_count": 6,
   "id": "11e46b54",
   "metadata": {},
   "outputs": [
    {
     "data": {
      "text/plain": [
       "array([0.33333333, 0.33333333, 0.33333333])"
      ]
     },
     "execution_count": 6,
     "metadata": {},
     "output_type": "execute_result"
    }
   ],
   "source": [
    "input_ = np.array([0,  0, 0])\n",
    "softmax(input_)"
   ]
  },
  {
   "cell_type": "markdown",
   "id": "6he0uNVlFoVH",
   "metadata": {
    "id": "6he0uNVlFoVH",
    "jp-MarkdownHeadingCollapsed": true
   },
   "source": [
    "## Tanh"
   ]
  },
  {
   "cell_type": "markdown",
   "id": "fptk5Uy-72wv",
   "metadata": {
    "id": "fptk5Uy-72wv"
   },
   "source": [
    "- `'tanh'`: \n",
    "  - Input: [-infinity, infinity].\n",
    "  - Output: [-1, 1].\n",
    "\n",
    "\\begin{align}\n",
    "tanh(x_i) = \\frac{e^{x}-e^{-x}}{e^{x}+e^{-x}} = \\frac{e^{2x}-1}{e^{2x}+1}\n",
    "\\end{align}   \n"
   ]
  },
  {
   "cell_type": "code",
   "execution_count": 7,
   "id": "_wtkrHUi-Cjb",
   "metadata": {
    "colab": {
     "base_uri": "https://localhost:8080/",
     "height": 0
    },
    "executionInfo": {
     "elapsed": 492,
     "status": "ok",
     "timestamp": 1681068070483,
     "user": {
      "displayName": "Lucas Camponogara Viera",
      "userId": "14322290658374940800"
     },
     "user_tz": 180
    },
    "id": "_wtkrHUi-Cjb",
    "outputId": "c6c2839d-8d15-4a96-90ba-bbfa71abb2c1"
   },
   "outputs": [
    {
     "data": {
      "image/png": "[encoded data removed]",
      "text/plain": [
       "<Figure size 640x480 with 1 Axes>"
      ]
     },
     "metadata": {},
     "output_type": "display_data"
    }
   ],
   "source": [
    "def tanh(x):\n",
    "    return (np.exp(x) - np.exp(-x)) / (np.exp(x) + np.exp(-x))\n",
    "\n",
    "#input = [x for x in range(-20, 20)]\n",
    "input_ = np.arange(-20, 20, .1).astype('float32')\n",
    "output = [tanh(x) for x in input_]\n",
    "plt.plot(input_, output)\n",
    "plt.xlabel(\"Input\")\n",
    "plt.ylabel(\"Tanh Output\")\n",
    "plt.title(\"Tanh Function\")\n",
    "plt.grid(True)\n",
    "plt.show()"
   ]
  },
  {
   "cell_type": "markdown",
   "id": "4gJVJsFvFqrO",
   "metadata": {
    "id": "4gJVJsFvFqrO",
    "jp-MarkdownHeadingCollapsed": true
   },
   "source": [
    "## ReLU"
   ]
  },
  {
   "cell_type": "markdown",
   "id": "ONdACIpQTs-r",
   "metadata": {
    "id": "ONdACIpQTs-r"
   },
   "source": [
    "\\begin{eqnarray}\n",
    "ReLU(x) = max\\{0, x\\}.\n",
    "\\end{eqnarray}"
   ]
  },
  {
   "cell_type": "code",
   "execution_count": 8,
   "id": "qC9-TWK3FDIj",
   "metadata": {
    "colab": {
     "base_uri": "https://localhost:8080/",
     "height": 0
    },
    "executionInfo": {
     "elapsed": 528,
     "status": "ok",
     "timestamp": 1681068071008,
     "user": {
      "displayName": "Lucas Camponogara Viera",
      "userId": "14322290658374940800"
     },
     "user_tz": 180
    },
    "id": "qC9-TWK3FDIj",
    "outputId": "11b3cfeb-be83-4960-8fd0-b25edf2af30f"
   },
   "outputs": [
    {
     "data": {
      "image/png": "[encoded data removed]",
      "text/plain": [
       "<Figure size 640x480 with 1 Axes>"
      ]
     },
     "metadata": {},
     "output_type": "display_data"
    }
   ],
   "source": [
    "def ReLU(x):\n",
    "    return max(0.0, x)\n",
    "\n",
    "#input = [x for x in range(-10, 10)]\n",
    "input_ = np.arange(-10, 10, 1).astype('float32')\n",
    "output = [ReLU(x) for x in input_]\n",
    "plt.plot(input_, output)\n",
    "plt.xlabel(\"Input\")\n",
    "plt.ylabel(\"ReLU Output\")\n",
    "plt.title(\"ReLU Function\")\n",
    "plt.grid(True)\n",
    "plt.show()"
   ]
  },
  {
   "cell_type": "markdown",
   "id": "19800e75-56fe-48ee-a117-82e8d173d2a4",
   "metadata": {
    "jp-MarkdownHeadingCollapsed": true
   },
   "source": [
    "## GeLU"
   ]
  },
  {
   "cell_type": "code",
   "execution_count": null,
   "id": "88e1a044-3fb6-4254-b47a-fc2ac4c380a0",
   "metadata": {},
   "outputs": [],
   "source": []
  },
  {
   "cell_type": "markdown",
   "id": "psK5gEtJrqKw",
   "metadata": {
    "id": "psK5gEtJrqKw",
    "jp-MarkdownHeadingCollapsed": true
   },
   "source": [
    "# <font color='orange'> Loss Functions in Python and Keras API </font><a name=\"Implementation\" />"
   ]
  },
  {
   "cell_type": "markdown",
   "id": "jZWMQ7sg09rE",
   "metadata": {
    "id": "jZWMQ7sg09rE",
    "jp-MarkdownHeadingCollapsed": true
   },
   "source": [
    "## MSE Loss"
   ]
  },
  {
   "cell_type": "markdown",
   "id": "do-gnv1u1HSI",
   "metadata": {
    "id": "do-gnv1u1HSI"
   },
   "source": [
    "Mean squared error (MSE) loss function is a non-convex function, i.e, it has more than one minimum, possibly many local minimum.\n",
    "\n",
    "\\begin{eqnarray}\n",
    "MSE &=& \\frac{1}{N}\\sum_{i=1}^{N} (y_i - \\hat{y}_i)^2.\n",
    "\\end{eqnarray}\n",
    "\n",
    "Legend:\n",
    "\n",
    "- $y_i$: ground truth value (label) for the $i$-th data point (sample).\n",
    "- $\\hat{y}_i$: predicted value for the $i$-th data point (sample).\n",
    "- $N$: the number of samples in a batch of data."
   ]
  },
  {
   "cell_type": "code",
   "execution_count": 9,
   "id": "lNhb84W7rqKx",
   "metadata": {
    "executionInfo": {
     "elapsed": 8,
     "status": "ok",
     "timestamp": 1681068071009,
     "user": {
      "displayName": "Lucas Camponogara Viera",
      "userId": "14322290658374940800"
     },
     "user_tz": 180
    },
    "id": "lNhb84W7rqKx"
   },
   "outputs": [],
   "source": [
    "def mse(y_pred: np.ndarray, y_true: np.ndarray) -> np.float64:\n",
    "    '''\n",
    "    Calculates the Mean Squared Error (MSE) loss between the predicted and actual values.\n",
    "\n",
    "    Args:\n",
    "      - y_pred (numpy.ndarray): 2D array (num_samples, num_features) of predicted values.\n",
    "      - y_true (numpy.ndarray): 2D array (num_samples, num_features) of ground truth values.\n",
    "\n",
    "    Returns:\n",
    "      - loss (numpy.float64): mean squared error loss.\n",
    "    '''\n",
    "    err = y_pred - y_true\n",
    "    loss = np.mean(np.square(err))\n",
    "    return loss\n",
    "\n",
    "# Or equivalently:\n",
    "\n",
    "def mse2(y_pred, y_true, M):\n",
    "    err = y_pred - y_true\n",
    "    loss = np.sum(np.square(err))/M\n",
    "    return loss"
   ]
  },
  {
   "cell_type": "code",
   "execution_count": 10,
   "id": "yhIGAum3aC5q",
   "metadata": {
    "colab": {
     "base_uri": "https://localhost:8080/"
    },
    "executionInfo": {
     "elapsed": 8,
     "status": "ok",
     "timestamp": 1681068071009,
     "user": {
      "displayName": "Lucas Camponogara Viera",
      "userId": "14322290658374940800"
     },
     "user_tz": 180
    },
    "id": "yhIGAum3aC5q",
    "outputId": "98bacd2a-8e49-4434-819c-c56bbb5cf366"
   },
   "outputs": [
    {
     "data": {
      "text/plain": [
       "(0.375, 0.375)"
      ]
     },
     "execution_count": 10,
     "metadata": {},
     "output_type": "execute_result"
    }
   ],
   "source": [
    "y_pred = np.array([3, -0.5, 2, 7], dtype=np.float32)\n",
    "y_true = np.array([2.5, 0.0, 2, 8], dtype=np.float32)\n",
    "\n",
    "mse(y_pred, y_true), mse2(y_pred, y_true, len(y_pred))"
   ]
  },
  {
   "cell_type": "markdown",
   "id": "CdFUOteOh30l",
   "metadata": {
    "id": "CdFUOteOh30l"
   },
   "source": [
    "Check this result with [Keras API](https://scikit-learn.org/stable/modules/generated/sklearn.metrics.mean_squared_error.html):"
   ]
  },
  {
   "cell_type": "code",
   "execution_count": 11,
   "id": "JcS4MAq-6g6d",
   "metadata": {
    "colab": {
     "base_uri": "https://localhost:8080/"
    },
    "executionInfo": {
     "elapsed": 4691,
     "status": "ok",
     "timestamp": 1681068075693,
     "user": {
      "displayName": "Lucas Camponogara Viera",
      "userId": "14322290658374940800"
     },
     "user_tz": 180
    },
    "id": "JcS4MAq-6g6d",
    "outputId": "82299dc8-7530-4b22-c79a-449e76f5f5ad"
   },
   "outputs": [
    {
     "data": {
      "text/plain": [
       "<tf.Tensor: shape=(), dtype=float32, numpy=0.375>"
      ]
     },
     "execution_count": 11,
     "metadata": {},
     "output_type": "execute_result"
    }
   ],
   "source": [
    "tf.keras.losses.MSE(y_pred,y_true)"
   ]
  },
  {
   "cell_type": "markdown",
   "id": "39a0196a",
   "metadata": {
    "jp-MarkdownHeadingCollapsed": true
   },
   "source": [
    "## MSE with L2"
   ]
  },
  {
   "cell_type": "markdown",
   "id": "6a55264f",
   "metadata": {},
   "source": [
    "\\begin{eqnarray}\n",
    "MSE_{L_2}  &=& \\text{MSE} + L_2 \\\\\n",
    "&=&  \\frac{1}{N}\\sum_{i=1}^{N} (y_i-\\hat{y}_i)^2 + \\lambda \\sum_{i=1}^L ||\\mathbf{W}^{(l)}||^2. \\\\\n",
    "&=&  \\frac{1}{N}\\sum_{i=1}^{N} (y_i-\\hat{y}_i)^2 + \\lambda \\sum_{i=1}^L \\sum_{j,k} \\mathbf{w}_{jk}^2. \\\\\n",
    "\\end{eqnarray}\n",
    "\n",
    "Legend:\n",
    "\n",
    "- $y_i$: ground truth value (label) for the $i$-th data point (sample).\n",
    "- $\\hat{y}_i$: predicted value for the $i$-th data point (sample).\n",
    "- $L$ is the number of weight matrices in the neural network.\n",
    "- $\\mathbf{w}_{jk}^{2}$ is the square value of the $j$-th weight for the $i$-th matrix.\n",
    "- $\\lambda$ is the regularization coefficient, a value between 0 and 0.1."
   ]
  },
  {
   "cell_type": "code",
   "execution_count": 24,
   "id": "ff9c2c95",
   "metadata": {},
   "outputs": [],
   "source": [
    "def mse_l2(y_hat: np.ndarray, y_true: np.ndarray, weights: List[np.ndarray], regularization_coeff: float) -> np.float32:\n",
    "    '''\n",
    "    Calculates the Mean Squared Error (MSE) loss with L2 regularization between the predicted and actual values.\n",
    "\n",
    "    Args:\n",
    "      - y_hat (numpy.ndarray): 2D array (num_samples, num_features) of predicted values.\n",
    "      - y_true (numpy.ndarray): 2D array (num_samples, num_features) of ground truth values.\n",
    "      - weights (List[numpy.ndarray]): list of weight matrices in the network (including hidden layers and output layer).\n",
    "      - regularization_coeff (float): regularization coefficient for L2 regularization.\n",
    "\n",
    "    Returns:\n",
    "      - loss (numpy.float32): mean squared error loss with L2 regularization.\n",
    "    '''\n",
    "    err = y_hat - y_true\n",
    "    loss = np.mean(np.square(err))\n",
    "\n",
    "    regularization_term = 0.0\n",
    "    for weight_matrix in weights:\n",
    "        regularization_term += np.sum(np.square(weight_matrix))\n",
    "\n",
    "    loss += (regularization_coeff / 2) * regularization_term\n",
    "\n",
    "    return loss.astype(np.float32)"
   ]
  },
  {
   "cell_type": "code",
   "execution_count": 13,
   "id": "29f9fa0d",
   "metadata": {},
   "outputs": [
    {
     "name": "stdout",
     "output_type": "stream",
     "text": [
      "MSE Loss with L2 Regularization: 0.047092877\n"
     ]
    }
   ],
   "source": [
    "# Example usage:\n",
    "\n",
    "y_hat = np.array([[0.8, 0.2], [0.6, 0.4]])  # Predicted values.\n",
    "y_true = np.array([[1.0, 0.0], [0.7, 0.3]]) # Ground truth values.\n",
    "weights = [np.random.rand(2, 4), np.random.rand(4, 2)] # Sample weight matrices.\n",
    "regularization_coeff = 0.01\n",
    "\n",
    "loss = mse_l2(y_hat, y_true, weights, regularization_coeff)\n",
    "print(\"MSE Loss with L2 Regularization:\", loss)"
   ]
  },
  {
   "cell_type": "markdown",
   "id": "QfTvr8YR7qyD",
   "metadata": {
    "id": "QfTvr8YR7qyD",
    "jp-MarkdownHeadingCollapsed": true
   },
   "source": [
    "## Binary Cross-Entropy"
   ]
  },
  {
   "cell_type": "markdown",
   "id": "t3b6EAw5J_5Z",
   "metadata": {
    "id": "t3b6EAw5J_5Z"
   },
   "source": [
    "The binary cross-entropy function measures the dissimilarity or information loss between the predicted probability and the true label of a single sample. It is used in classification tasks with only two classes.\n",
    "\n",
    "\\begin{eqnarray}\n",
    "BCE \\equiv H(y, \\hat{y}) = - \\left( y \\cdot \\mathrm{log}\\; {\\hat{y}} + (1-y) \\cdot \\mathrm{log}\\; (1-{\\hat{y}}) \\right).\n",
    "\\end{eqnarray}\n",
    "\n",
    "Legend:\n",
    "\n",
    "- $log(x)$: is the natural logarithm of $x$.\n",
    "- $y$: is the actual label (ground truth value) of the sample. Either 0 (negative class) or 1 (positive class).\n",
    "- $\\hat{y}$: is the predicted probability for the positive class.\n",
    "- $(1-\\hat{y})$: is the predicted probability for the negative class."
   ]
  },
  {
   "cell_type": "code",
   "execution_count": 14,
   "id": "90661b37",
   "metadata": {},
   "outputs": [],
   "source": [
    "def binary_cross_entropy(y_true: float, y_hat: float) -> float:\n",
    "    '''\n",
    "    Binary cross-entropy function.\n",
    "    \n",
    "    Args:\n",
    "        - y_true (float): actual label (ground truth value) of the sample. Either 0 or 1.\n",
    "        - y_hat (float): predicted probability for the positive class. A number between 0 and 1.\n",
    "    \n",
    "    Returns:\n",
    "        - bce (float): binary cross-entropy value.    \n",
    "    '''\n",
    "    bce = -(y_true * np.log(y_hat) + (1 - y_true) * np.log(1 - y_hat))\n",
    "    return bce"
   ]
  },
  {
   "cell_type": "code",
   "execution_count": 15,
   "id": "0e7ca37e",
   "metadata": {},
   "outputs": [
    {
     "name": "stdout",
     "output_type": "stream",
     "text": [
      "Binary Cross-Entropy of one sample: 0.10536051565782628\n",
      "Mean Binary Cross-Entropy of two samples: 0.10536051565782628\n"
     ]
    }
   ],
   "source": [
    "# Example usage:\n",
    "    \n",
    "# One sample:\n",
    "print(\"Binary Cross-Entropy of one sample:\", binary_cross_entropy(0, 0.1))\n",
    "\n",
    "# Two samples:\n",
    "print(\"Mean Binary Cross-Entropy of two samples:\",(binary_cross_entropy(0, 0.1)+binary_cross_entropy(1, 0.9))/2)"
   ]
  },
  {
   "cell_type": "markdown",
   "id": "5ac8c455",
   "metadata": {
    "jp-MarkdownHeadingCollapsed": true
   },
   "source": [
    "## Binary Cross-Entropy Loss"
   ]
  },
  {
   "cell_type": "markdown",
   "id": "1044f5da",
   "metadata": {},
   "source": [
    "The binary cross-entropy loss function is the mean average of the binary cross entropy over a batch of data. \n",
    "\n",
    "\\begin{eqnarray}\n",
    "BCE_{loss} = \\frac{1}{N}\\sum_{i=1}^N BCE(y_i, \\hat{y}_i) = - \\frac{1}{N}\\sum_{i=1}^N y_i \\cdot \\mathrm{log}\\; {\\hat{y}}_i + (1-y_i) \\cdot \\mathrm{log}\\; (1-{\\hat{y}}_i).\n",
    "\\end{eqnarray}\n",
    "\n",
    "Legend:\n",
    "\n",
    "- $BCE(y_i, \\hat{y}_i)$: is the binary cross-entropy value of the $i$-th sample.\n",
    "- $y_i$: is the actual label (ground truth value) of the $i$-th sample. Either 0 (negative class) or 1 (positive class).\n",
    "- $\\hat{y}_i$: is the predicted probability for the positive class of the $i$-th sample.\n",
    "- $(1-\\hat{y}_i)$: is the predicted probability for the negative class of the $i$-th sample.\n",
    "- $N$: is the number of samples in a batch of data.\n",
    "\n",
    "In binary classification, the output layer of a neural network typically consists of a single neuron with sigmoid activation function or two neurons with softmax activation function. The value of each neuron in the output layer represents the predicted probability of a specific class.\n",
    "\n",
    "Note: the implementation **does not require target labels to be one-hot encoded**."
   ]
  },
  {
   "cell_type": "code",
   "execution_count": 16,
   "id": "wLdogFHX7yMW",
   "metadata": {
    "executionInfo": {
     "elapsed": 7,
     "status": "ok",
     "timestamp": 1681068075693,
     "user": {
      "displayName": "Lucas Camponogara Viera",
      "userId": "14322290658374940800"
     },
     "user_tz": 180
    },
    "id": "wLdogFHX7yMW"
   },
   "outputs": [],
   "source": [
    "def bce_loss1(y_true: np.ndarray or list, y_hat: np.ndarray or list) -> np.float32:\n",
    "    '''\n",
    "    Computes the binary cross-entropy loss function.\n",
    "    Uses list comprehension to iterate over the elements of y_true and y_hat and summing up the values.\n",
    "    \n",
    "    Args:\n",
    "      - y_true (numpy.ndarray or list): is the target array of true labels (ground truth probabilities).\n",
    "      - y_hat (numpy.ndarray or list): is the array of predicted probabilities.\n",
    "      \n",
    "    Returns:\n",
    "      - mean_loss (numpy.float32): binary cross-entropy loss. Mean average of the binary cross entropy.\n",
    "    '''\n",
    "    n_samples = len(y_true)\n",
    "    loss = -sum([(y_true[i]*np.log(y_hat[i])+(1-y_true[i])*np.log(1-y_hat[i])) for i in range(n_samples)])\n",
    "    mean_loss = loss/n_samples\n",
    "    return mean_loss.astype(np.float32)"
   ]
  },
  {
   "cell_type": "code",
   "execution_count": 17,
   "id": "fbc930e4",
   "metadata": {},
   "outputs": [
    {
     "data": {
      "text/plain": [
       "0.105360515"
      ]
     },
     "execution_count": 17,
     "metadata": {},
     "output_type": "execute_result"
    }
   ],
   "source": [
    "# Creating arrays of two samples:\n",
    "y_true = [0, 1]\n",
    "y_pred = [0.1, 0.9]\n",
    "\n",
    "bce_loss1 = bce_loss1(y_true, y_pred)\n",
    "bce_loss1"
   ]
  },
  {
   "cell_type": "code",
   "execution_count": 18,
   "id": "caaff35e",
   "metadata": {},
   "outputs": [],
   "source": [
    "def bce_loss2(y_true: np.ndarray or list, y_hat: np.ndarray or list) -> np.float32:\n",
    "    '''\n",
    "    Computes the binary cross-entropy loss function.\n",
    "    Uses conditional statements.\n",
    "    \n",
    "    Args:\n",
    "      - y_true (numpy.ndarray): is the target array of true labels (ground truth probabilities).\n",
    "      - y_hat (numpy.ndarray): is the array of predicted probabilities.\n",
    "      \n",
    "    Returns:\n",
    "      - loss (numpy.float32): binary cross-entropy loss. Mean average of the binary cross entropy.\n",
    "    '''\n",
    "    for i in range(len(y_true)):\n",
    "        if y_true[i] == 1:\n",
    "            return -np.log(y_hat[i]).astype(np.float32)\n",
    "        else:\n",
    "            return -np.log(1 - y_hat[i]).astype(np.float32)"
   ]
  },
  {
   "cell_type": "code",
   "execution_count": 19,
   "id": "66cf2b4d",
   "metadata": {},
   "outputs": [
    {
     "data": {
      "text/plain": [
       "0.105360515"
      ]
     },
     "execution_count": 19,
     "metadata": {},
     "output_type": "execute_result"
    }
   ],
   "source": [
    "bce_loss2 = bce_loss2(y_true, y_pred)\n",
    "bce_loss2"
   ]
  },
  {
   "cell_type": "code",
   "execution_count": 20,
   "id": "2403447e",
   "metadata": {},
   "outputs": [],
   "source": [
    "def bce_loss3(y_true: np.ndarray, y_hat: np.ndarray) -> np.float32:\n",
    "    '''\n",
    "    Computes the binary cross-entropy loss function.\n",
    "    Uses NumPy's broadcasting to compute the cross-entropy loss for all input samples simultaneously.\n",
    "    \n",
    "    Args:\n",
    "      - y_true (numpy.ndarray): is the target array of true labels (ground truth probabilities).\n",
    "      - y_hat (numpy.ndarray): is the array of predicted probabilities.\n",
    "      \n",
    "    Returns:\n",
    "      - loss (numpy.float32): binary cross-entropy loss. Mean average of the binary cross entropy.\n",
    "    '''\n",
    "    loss = -np.mean(y_true * np.log(y_hat) + (1 - y_true) * np.log(1 - y_hat))\n",
    "    return loss.astype(np.float32)"
   ]
  },
  {
   "cell_type": "code",
   "execution_count": 21,
   "id": "04d1cba8",
   "metadata": {},
   "outputs": [
    {
     "data": {
      "text/plain": [
       "((2,), 1)"
      ]
     },
     "execution_count": 21,
     "metadata": {},
     "output_type": "execute_result"
    }
   ],
   "source": [
    "y_true = np.array([0, 1])\n",
    "y_pred = np.array([0.1, 0.9])\n",
    "\n",
    "y_true.shape, y_true.ndim"
   ]
  },
  {
   "cell_type": "code",
   "execution_count": 22,
   "id": "55445ac9",
   "metadata": {},
   "outputs": [
    {
     "data": {
      "text/plain": [
       "0.105360515"
      ]
     },
     "execution_count": 22,
     "metadata": {},
     "output_type": "execute_result"
    }
   ],
   "source": [
    "bce_loss3 = bce_loss3(y_true, y_pred)\n",
    "bce_loss3"
   ]
  },
  {
   "cell_type": "code",
   "execution_count": 23,
   "id": "48da108a",
   "metadata": {},
   "outputs": [
    {
     "data": {
      "text/plain": [
       "True"
      ]
     },
     "execution_count": 23,
     "metadata": {},
     "output_type": "execute_result"
    }
   ],
   "source": [
    "bce_loss1 == bce_loss2 == bce_loss3"
   ]
  },
  {
   "cell_type": "markdown",
   "id": "DlsF_6ol770m",
   "metadata": {
    "id": "DlsF_6ol770m"
   },
   "source": [
    "[Check the result with Keras](https://ml-cheatsheet.readthedocs.io/en/latest/loss_functions.html#cross-entropy):"
   ]
  },
  {
   "cell_type": "code",
   "execution_count": 24,
   "id": "izROEYm3gSiH",
   "metadata": {
    "colab": {
     "base_uri": "https://localhost:8080/"
    },
    "executionInfo": {
     "elapsed": 5,
     "status": "ok",
     "timestamp": 1681068075694,
     "user": {
      "displayName": "Lucas Camponogara Viera",
      "userId": "14322290658374940800"
     },
     "user_tz": 180
    },
    "id": "izROEYm3gSiH",
    "outputId": "0f5895dc-1c87-4ae5-f220-2191bea7cf77"
   },
   "outputs": [
    {
     "data": {
      "text/plain": [
       "0.1053604045467214"
      ]
     },
     "execution_count": 24,
     "metadata": {},
     "output_type": "execute_result"
    }
   ],
   "source": [
    "bce_keras = tf.keras.losses.BinaryCrossentropy()\n",
    "bce_keras = bce_keras(y_true, y_pred).numpy()\n",
    "bce_keras"
   ]
  },
  {
   "cell_type": "code",
   "execution_count": 25,
   "id": "7cc22900",
   "metadata": {},
   "outputs": [
    {
     "data": {
      "text/plain": [
       "(0.10536, 0.10536)"
      ]
     },
     "execution_count": 25,
     "metadata": {},
     "output_type": "execute_result"
    }
   ],
   "source": [
    "# Comparing values up to 6 decimal places:\n",
    "round(bce_keras, 6), round(bce_loss2, 5)"
   ]
  },
  {
   "cell_type": "markdown",
   "id": "I_nTfh0f1AX8",
   "metadata": {
    "id": "I_nTfh0f1AX8",
    "jp-MarkdownHeadingCollapsed": true
   },
   "source": [
    "## Categorical Cross-Entropy"
   ]
  },
  {
   "cell_type": "markdown",
   "id": "9u_TpjjL1Qo3",
   "metadata": {
    "id": "9u_TpjjL1Qo3"
   },
   "source": [
    "Categorical cross-entropy is a dissimilarity measure between predicted probability distributions and true labels. It is used in classification tasks with more than two classes.\n",
    "\n",
    "\\begin{eqnarray}\n",
    "CCE &=& -\\sum_{i=1}^C y_i \\cdot \\mathrm{log}\\; (\\hat{y}_i).\n",
    "\\end{eqnarray}\n",
    "\n",
    "Legend:\n",
    "\n",
    "- $log(x)$: is the natural logarithm of $x$.\n",
    "- $y_i$: is the ground truth value corresponding to class $i$. Either 0 or 1.\n",
    "- $\\hat{y}_i$: is the predicted probability that observation (sample) $\\hat{O}$ is of class $i$.\n",
    "- $C$: number of classes.\n",
    "\n",
    "Upon expanding the sum, since there is only one non-zero label $y_i$, the equation can be further simplified to:\n",
    "\n",
    "\\begin{eqnarray}\n",
    "CCE &=& - \\mathrm{log}\\; (\\hat{y}_c),\n",
    "\\end{eqnarray}\n",
    "\n",
    "where $\\hat{y}_c$ is the predicted probability for the correct class.\n",
    "\n",
    "Note: **target labels are required to be one-hot encoded**."
   ]
  },
  {
   "cell_type": "code",
   "execution_count": 26,
   "id": "8f30272b",
   "metadata": {},
   "outputs": [
    {
     "data": {
      "text/plain": [
       "((3,), 3, 1)"
      ]
     },
     "execution_count": 26,
     "metadata": {},
     "output_type": "execute_result"
    }
   ],
   "source": [
    "# Creating array of one sample and three classes:\n",
    "y_true = np.array([0, 1, 0]) # One-hot encoding.\n",
    "y_pred = np.array([0.05, 0.94, 0.01])\n",
    "\n",
    "y_true.shape, y_true.size, y_true.ndim"
   ]
  },
  {
   "cell_type": "code",
   "execution_count": 27,
   "id": "fef7b028",
   "metadata": {},
   "outputs": [],
   "source": [
    "def categorical_cross_entropy(y_true: np.ndarray, y_hat: np.ndarray) -> np.float32:\n",
    "    '''\n",
    "    Computes the categorical cross-entropy function.\n",
    "    \n",
    "    Args:\n",
    "      - y_true (numpy.ndarray): the one-hot encoded target array of true labels (ground truth probabilities).\n",
    "      - y_hat (numpy.ndarray): the array of predicted probabilities.\n",
    "    \n",
    "    Returns:\n",
    "      - cce (numpy.float32): categorical cross-entropy value.    \n",
    "    '''\n",
    "    eps = 1e-15 # Add a small value to y_hat to avoid taking the logarithm of zero.\n",
    "    cce = -np.sum(y_true * np.log(y_hat + eps))\n",
    "    return cce.astype(np.float32)"
   ]
  },
  {
   "cell_type": "code",
   "execution_count": 28,
   "id": "02473f3a",
   "metadata": {},
   "outputs": [
    {
     "name": "stdout",
     "output_type": "stream",
     "text": [
      "Categorical cross-entropy with three classes: 0.061875403\n"
     ]
    }
   ],
   "source": [
    "# Example usage:\n",
    "\n",
    "print(\"Categorical cross-entropy with three classes:\", categorical_cross_entropy(y_true, y_pred))"
   ]
  },
  {
   "cell_type": "markdown",
   "id": "6961f243",
   "metadata": {
    "jp-MarkdownHeadingCollapsed": true
   },
   "source": [
    "## Categorical Cross-Entropy Loss"
   ]
  },
  {
   "cell_type": "markdown",
   "id": "24e5f773",
   "metadata": {},
   "source": [
    "The categorical cross-entropy loss is the mean average of the categorical cross-entropy function over a batch of data. \n",
    "\n",
    "\\begin{eqnarray}\n",
    "CCE_{loss} &=& -\\frac{1}{N}\\sum_{i=1}^N (CCE)_i.\n",
    "\\end{eqnarray}\n",
    "\n",
    "Legend:\n",
    "\n",
    "- $(CCE)_i$: categorical cross-entropy value of the $i$-th sample.\n",
    "- $N$: the number of samples in a batch of data.\n",
    "\n",
    "In multi-class classification, the output layer of a neural network has as many neurons as there are classes and the activation function is typically softmax. The value of each neuron in the output layer represents the predicted probability of a specific class. **Target labels are required to be one-hot encoded**."
   ]
  },
  {
   "cell_type": "code",
   "execution_count": 29,
   "id": "992d6989",
   "metadata": {
    "scrolled": true
   },
   "outputs": [
    {
     "data": {
      "text/plain": [
       "((2, 3), 6, 2)"
      ]
     },
     "execution_count": 29,
     "metadata": {},
     "output_type": "execute_result"
    }
   ],
   "source": [
    "# Creating array of two samples and three classes:\n",
    "y_true = np.array([[0, 1, 0], [0, 0, 1]]) # One-hot encoding.\n",
    "y_pred = np.array([[0.05, 0.94, 0.01], [0.1, 0.8, 0.1]])\n",
    "\n",
    "y_true.shape, y_true.size, y_true.ndim"
   ]
  },
  {
   "cell_type": "code",
   "execution_count": 30,
   "id": "0536c7ee",
   "metadata": {},
   "outputs": [],
   "source": [
    "def cce_loss1(y_true: np.ndarray, y_hat: np.ndarray) -> np.float32:\n",
    "    '''\n",
    "    Computes the multi-class (categorical) cross-entropy loss function.\n",
    "    Uses NumPy's broadcasting to compute the cross-entropy loss for all input examples simultaneously.\n",
    "    \n",
    "    Args:\n",
    "      - y_true (numpy.ndarray): 2D target array of true labels (ground truth probabilities).\n",
    "      - y_hat (numpy.ndarray): 2D array of predicted probabilities.\n",
    "      \n",
    "    Returns:\n",
    "      - loss (numpy.float32): categorical cross-entropy loss value.\n",
    "    '''\n",
    "    eps = 1e-15 # Add a small value to y_hat to avoid taking the logarithm of zero.\n",
    "    #y_hat = np.clip(y_hat, eps, 1 - eps) # Clip y_hat to the range [epsilon, 1 - epsilon].\n",
    "    #n_samples = y_true.shape[0]\n",
    "    #loss = -np.sum(y_true * np.log(y_hat)) / n_samples\n",
    "    loss = -np.mean(np.sum(y_true * np.log(y_hat + eps), axis=1))\n",
    "    return loss.astype(np.float32)"
   ]
  },
  {
   "cell_type": "code",
   "execution_count": 31,
   "id": "e1e66445",
   "metadata": {},
   "outputs": [
    {
     "name": "stdout",
     "output_type": "stream",
     "text": [
      "Categorical cross-entropy loss for two samples and three classes: 1.1822302\n"
     ]
    }
   ],
   "source": [
    "# Example usage:\n",
    "\n",
    "cce_loss1 = cce_loss1(y_true, y_pred)\n",
    "print(\"Categorical cross-entropy loss for two samples and three classes:\", cce_loss1)"
   ]
  },
  {
   "cell_type": "code",
   "execution_count": 32,
   "id": "650fbecb",
   "metadata": {},
   "outputs": [
    {
     "name": "stdout",
     "output_type": "stream",
     "text": [
      "Test case passed!\n"
     ]
    }
   ],
   "source": [
    "mean_cce = (categorical_cross_entropy(y_true[0], y_pred[0])+categorical_cross_entropy(y_true[1], y_pred[1]))/2\n",
    "mean_cce = mean_cce.astype(np.float32)\n",
    "\n",
    "assert cce_loss1 == mean_cce, \"Test case failed.\"\n",
    "print(\"Test case passed!\")"
   ]
  },
  {
   "cell_type": "code",
   "execution_count": 33,
   "id": "JWrl4_VM1Bo6",
   "metadata": {
    "executionInfo": {
     "elapsed": 391,
     "status": "ok",
     "timestamp": 1681068076081,
     "user": {
      "displayName": "Lucas Camponogara Viera",
      "userId": "14322290658374940800"
     },
     "user_tz": 180
    },
    "id": "JWrl4_VM1Bo6"
   },
   "outputs": [],
   "source": [
    "def cce_loss2(y_true: np.ndarray, y_hat: np.ndarray) -> np.float32:\n",
    "    '''\n",
    "    Computes the multi-class (categorical) cross-entropy loss function.\n",
    "    Uses list comprehension.\n",
    "\n",
    "    Args:\n",
    "      - y_true (numpy.ndarray): target array of true labels (ground truth probabilities).\n",
    "      - y_hat (numpy.ndarray): array of predicted probabilities.\n",
    "      \n",
    "    Returns:\n",
    "      - loss (numpy.float32): categorical cross-entropy loss value. Mean average of categorical cross-entropy.\n",
    "    '''\n",
    "    eps = 1e-15 # Add a small value to y_hat to avoid taking the logarithm of zero.\n",
    "    loss = np.mean([-np.sum(y_true[i]*np.log(y_hat[i] + eps)) for i in range(len(y_true))])\n",
    "    return loss.astype(np.float32)"
   ]
  },
  {
   "cell_type": "code",
   "execution_count": 34,
   "id": "247ed20d",
   "metadata": {},
   "outputs": [
    {
     "name": "stdout",
     "output_type": "stream",
     "text": [
      "Categorical cross-entropy loss for two samples and three classes: 1.1822302\n"
     ]
    }
   ],
   "source": [
    "cce_loss2 = cce_loss2(y_true, y_pred)\n",
    "print(\"Categorical cross-entropy loss for two samples and three classes:\", cce_loss2)"
   ]
  },
  {
   "cell_type": "code",
   "execution_count": 35,
   "id": "14028b72",
   "metadata": {},
   "outputs": [
    {
     "data": {
      "text/plain": [
       "True"
      ]
     },
     "execution_count": 35,
     "metadata": {},
     "output_type": "execute_result"
    }
   ],
   "source": [
    "# Comparing values up to 7 decimal places:\n",
    "round(cce_loss1, 7) == round(cce_loss2, 7)"
   ]
  },
  {
   "cell_type": "markdown",
   "id": "x_J6_O_l1xYd",
   "metadata": {
    "id": "x_J6_O_l1xYd"
   },
   "source": [
    "[Checking the result with tensorflow](https://www.tensorflow.org/api_docs/python/tf/keras/losses/CategoricalCrossentropy):"
   ]
  },
  {
   "cell_type": "code",
   "execution_count": 36,
   "id": "h5MY7Y3r0aaF",
   "metadata": {
    "colab": {
     "base_uri": "https://localhost:8080/"
    },
    "executionInfo": {
     "elapsed": 6,
     "status": "ok",
     "timestamp": 1681068076410,
     "user": {
      "displayName": "Lucas Camponogara Viera",
      "userId": "14322290658374940800"
     },
     "user_tz": 180
    },
    "id": "h5MY7Y3r0aaF",
    "outputId": "81121927-f2a0-488b-a04a-e90e87d6f1d7"
   },
   "outputs": [
    {
     "data": {
      "text/plain": [
       "1.1822302"
      ]
     },
     "execution_count": 36,
     "metadata": {},
     "output_type": "execute_result"
    }
   ],
   "source": [
    "y_true = [1, 2] # Label encoding.\n",
    "y_pred = [[0.05, 0.94, 0.01], [0.1, 0.8, 0.1]]\n",
    "scce = tf.keras.losses.SparseCategoricalCrossentropy()\n",
    "scce = scce(y_true, y_pred).numpy()\n",
    "scce"
   ]
  },
  {
   "cell_type": "code",
   "execution_count": 37,
   "id": "0d4Jrz_h56kO",
   "metadata": {
    "colab": {
     "base_uri": "https://localhost:8080/"
    },
    "executionInfo": {
     "elapsed": 5,
     "status": "ok",
     "timestamp": 1681068076410,
     "user": {
      "displayName": "Lucas Camponogara Viera",
      "userId": "14322290658374940800"
     },
     "user_tz": 180
    },
    "id": "0d4Jrz_h56kO",
    "outputId": "fe3410fc-4460-46fc-a3ce-557a8bb38ec8"
   },
   "outputs": [
    {
     "data": {
      "text/plain": [
       "1.1822302"
      ]
     },
     "execution_count": 37,
     "metadata": {},
     "output_type": "execute_result"
    }
   ],
   "source": [
    "los = tf.keras.losses.SparseCategoricalCrossentropy()\n",
    "\n",
    "y_true = np.array([[0, 1, 0], [0, 0, 1]]) # One-hot encoding.\n",
    "y_pred = np.array([[0.05, 0.94, 0.01], [0.1, 0.8, 0.1]])\n",
    "\n",
    "cce_keras = tf.keras.losses.CategoricalCrossentropy() \n",
    "cce_keras = cce_keras(y_true, y_pred).numpy().astype(np.float32)\n",
    "cce_keras"
   ]
  },
  {
   "cell_type": "code",
   "execution_count": 38,
   "id": "1089fb62",
   "metadata": {},
   "outputs": [
    {
     "data": {
      "text/plain": [
       "True"
      ]
     },
     "execution_count": 38,
     "metadata": {},
     "output_type": "execute_result"
    }
   ],
   "source": [
    "scce == cce_keras == cce_loss1 == cce_loss2"
   ]
  },
  {
   "cell_type": "markdown",
   "id": "dda8c31c",
   "metadata": {
    "jp-MarkdownHeadingCollapsed": true
   },
   "source": [
    "## Sparse Categorical Cross-Entropy Loss"
   ]
  },
  {
   "cell_type": "markdown",
   "id": "b30e4558",
   "metadata": {},
   "source": [
    "This loss is specifically designed for scenarios where the target labels are integers rather than one-hot encoded vectors. When using this loss in keras, there is no need to use a Dense layer with a softmax activation as the output layer. Keras will handle internally the conversion of logits to probabilities during training."
   ]
  },
  {
   "cell_type": "markdown",
   "id": "3d3ce6ac",
   "metadata": {},
   "source": [
    "```python\n",
    "model = keras.Sequential()\n",
    "model.add(...)\n",
    "model.add(Dense(nr_of_classes))\n",
    "```"
   ]
  },
  {
   "cell_type": "markdown",
   "id": "7ad71d31",
   "metadata": {
    "id": "7ad71d31",
    "jp-MarkdownHeadingCollapsed": true
   },
   "source": [
    "# <font color='orange'> Backpropagation </font><a name=\"Implementation\" />"
   ]
  },
  {
   "cell_type": "markdown",
   "id": "6d726df9",
   "metadata": {},
   "source": [
    "See the following resource for a visualization of the backpropagation algorithm:\n",
    "    \n",
    "1. [3Blue1Brown](https://www.youtube.com/watch?v=tIeHLnjs5U8)."
   ]
  },
  {
   "cell_type": "markdown",
   "id": "8a68c8a1",
   "metadata": {
    "id": "8a68c8a1"
   },
   "source": [
    "- Gradient descent: is an **optimizer** whose objective is to update the weights of the neural network in order to minimize the value of the loss function. To do so it calculates the gradient of the loss function w.r.t the weights via an algorithm called backpropagation. This gradient is a vector where each component of the vector is the derivative of the loss ($\\mathcal{L}$) with respect to the weights ($w_{kj}$) and biases ($b_j$).\n",
    "<br>\n",
    "\n",
    "- Backpropagation: is the computation of the chain rule¹ of calculus used to calculate the gradient of the loss function starting from the output layer and going backwards to the input layer. It uses the chain rule because the loss function depends of the output activation function which in turn depends on the previous activations and weights, i.e, a composition of functions.\n",
    "<br>\n",
    "\n",
    "- In SGD, as the size of the parameter vector we are trying to optimize gets larger (like a million), any local minima is as good as a global minima. Ps: I heard that in a keynote from David Silver, and I agree.\n",
    "\n",
    "**Note:** there are several other optimizers available to replace gradient descent, such as Adam, AdaGrad, Adadelta and RMSProp, to name a few.\n",
    "\n",
    "---\n",
    "¹Chain rule is the derivative of the composition of two or more functions. "
   ]
  },
  {
   "cell_type": "markdown",
   "id": "511e9fd5",
   "metadata": {
    "jp-MarkdownHeadingCollapsed": true
   },
   "source": [
    "## Neural Network Layers"
   ]
  },
  {
   "cell_type": "markdown",
   "id": "c444d374",
   "metadata": {},
   "source": [
    "**Definitions:**\n",
    "\n",
    "- $\\hat{y}$: predicted value.\n",
    "- $y$: ground truth.\n",
    "- $y_j$: the ground truth value (expected value) of node $j$ in a hidden layer $l$. Is a parameter (a constant value).\n",
    "- NN: short for \"Neural Network\".\n",
    "- $L$: total number of layers in the NN.\n",
    "- $N$: total number of neurons (a.k.a nodes) in a given layer.\n",
    "- $l (l= 1, 2, 3, \\cdots, L-1)$: index of the nth-hidden layer in the NN.\n",
    "- $j (j=0,1,2, \\cdots, N-1)$: index for nodes in a hidden layer.\n",
    "- $k (k=0,1,2, \\cdots, N-1)$: index for nodes in the output layer $L$.\n",
    "- $\\mathcal{L}$: loss function of the output layer $L$.\n",
    "- $w_{i\\rightarrow j}$: is the matrix of weights (sinapses) that connects the output of neuron $n_i$ in layer $l-1$ to the input of neuron $n_j$ in layer $l$.\n",
    "- $w_{j}^l$: vector containing all the weights connected to node $j$ in layer $l$ by each node in the previous layer indexed by $l-1$. This is a fully connected NN.\n",
    "- $s_{j}^{(l)}$: input of node $j$ in layer $l$.\n",
    "- $g^{(l)}$: activation function of layer $l$. There is one activation function for each neuron. A given layer has the same activation function for all of its neurons.\n",
    "- $z_j^{(l)}$: activation output of node $j$ in layer $l$. \n",
    "- $b_j$: bias for each node in layer $l$.\n",
    "\n",
    "How to read $a_j^{(l)}$: \"$a$ sub $j$ superscript $l$\"."
   ]
  },
  {
   "cell_type": "markdown",
   "id": "4aa4c78b",
   "metadata": {},
   "source": [
    "**Dense (fully connected) layers have the following algebra:**\n",
    "\n",
    "Input of node $j$ in layer $l$ is given by a weighted sum:\n",
    "\n",
    "\\begin{eqnarray}\n",
    "s_j^{(l)} = \\sum_{i=0}^{N-1} w_{i \\rightarrow j}^l z_i^{(l-1)}+b_j^{(l)}.\n",
    "\\end{eqnarray}\n",
    "\n",
    "Activation output of node $j$ in layer $l$:\n",
    "\n",
    "\\begin{eqnarray}\n",
    "z_j^{(l)} = g^{(l)}(s_j^{(l)}) = g^{(l)}\\left(\\sum_{i=0}^{N-1} w_{i\\rightarrow j}^l z_i^{(l-1)}+b_j^{(l)}\\right).\n",
    "\\end{eqnarray}"
   ]
  },
  {
   "cell_type": "markdown",
   "id": "eb02621e-35e7-4874-b01e-5906c127eb9a",
   "metadata": {},
   "source": [
    "| Convention     | Activation Shape     | Weight Shape                   | Formula                                                         \n",
    "|----------------|----------------------|--------------------------------|-----------------------------\n",
    "| Column vector  | `(n × 1)`            | `(n_out × n)`                  | $s_j^{(l)} = w_{i \\rightarrow j}^l z_i^{(l-1)}+b_j^{(l)}$\n",
    "| Row vector     | `(1 × n)`            | `(n × n_out)`                  | $s_j^{(l)} = z_i^{(l-1)} w_{i \\rightarrow j}^l + b_j^{(l)}$\n",
    "\n",
    "Where `n` and `n_out` are the number of input and output neurons in the weight matrix of the $l$-th layer, respectively."
   ]
  },
  {
   "cell_type": "markdown",
   "id": "b4b13f2a",
   "metadata": {
    "jp-MarkdownHeadingCollapsed": true
   },
   "source": [
    "## The backpropagation algorithm"
   ]
  },
  {
   "cell_type": "markdown",
   "id": "595e23ff",
   "metadata": {},
   "source": [
    "- Step 1. Use the chain rule to compute the gradient of the loss function which is a composite function of activations and weights.\n",
    "\n",
    "\\begin{align*}\n",
    "\\frac{\\partial(\\text{loss})}{\\partial (\\text{weight})} = \\frac{\\partial \\mathcal{L}(z_k(s_k(w_k)))}{\\partial w_{j\\rightarrow k}^{(l)}} = \\frac{\\partial \\mathcal{L}}{\\partial z_k^{(l)}}\\frac{\\partial z_k^{(l)}}{\\partial s_k^{(l)}}\\frac{\\partial s_k^{(l)}}{\\partial w_{j\\rightarrow k}^{(l)}}.\n",
    "\\end{align*}\n",
    "\n",
    "By definition of the weighted sum, the last term is:\n",
    "\n",
    "\\begin{align*}\n",
    "\\frac{\\partial s_k}{\\partial w_{j\\rightarrow k}^{(l)}} = \\frac{\\partial}{\\partial w_{j\\rightarrow k}^{(l)}}\\left(\\sum_{j=0}^{N-1} w_{j \\rightarrow k}^{(l)} z_j^{(l-1)}+b_k^{(L)} \\right) = z_j^{(l-1)} \\frac{\\partial}{\\partial w_{j\\rightarrow k}^{(l)}} \\sum_{j=0}^{N-1} w_{j \\rightarrow k}^{(l)} = z_j^{(l-1)}.\n",
    "\\end{align*}\n",
    "\n",
    "With that:\n",
    "\n",
    "\\begin{align*}\n",
    "\\frac{\\partial \\mathcal{L}(z_k(s_k(w_k)))}{\\partial w_{j\\rightarrow k}^{(l)}} =  \\left(\\frac{\\partial \\mathcal{L}}{\\partial z_k^{(l)}}\\frac{\\partial z_k^{(l)}}{\\partial s_k^{(l)}} \\right) z_k^{(l-1)} := \\delta_k^{(l)} \\cdot z_j^{(l-1)}.\n",
    "\\end{align*}"
   ]
  },
  {
   "cell_type": "markdown",
   "id": "addfd1a5",
   "metadata": {},
   "source": [
    "- Step 1.1 Compute $\\delta_k$ for node $k$ in output layer $L$:\n",
    "\n",
    "$$\\delta_k = \\left(\\frac{\\partial \\mathcal{L}}{\\partial z_{k}^{(L)}}\\right)\\left(\\frac{\\partial z_k^{(L)}}{\\partial s_{k}^{(L)}}\\right).$$\n",
    "\n",
    "- Step 1.2 Compute $\\delta_j$ for node $j$ in hidden layer $l$:\n",
    "\n",
    "$$\\delta_j = \\left(\\frac{\\partial \\mathcal{L}}{\\partial z_j^{(l)}}\\frac{\\partial z_j^{(l)}}{\\partial s_j^{(l)}} \\right).$$"
   ]
  },
  {
   "cell_type": "markdown",
   "id": "90cc724b",
   "metadata": {},
   "source": [
    "- Step 2. Update weights via Gradient Descent (GD) with learning rate $\\eta$:\n",
    "\n",
    "$$w_{j+1} = w_j - \\eta \\frac{\\partial \\mathcal{L}}{\\partial w_{i\\rightarrow j}^{(l)}} = w_j - \\eta (\\delta_j^l \\cdot z_j^{(l-1)}).$$\n",
    "\n",
    "- Step 3. Update biases via Gradient Descent (GD) with learning rate $\\eta$:\n",
    "\n",
    "$$b_{j+1} = b_j -  \\eta \\frac{\\partial \\mathcal{L}}{\\partial b_{j}^{(l)}} = b_j - \\eta \\delta_j^l.$$"
   ]
  },
  {
   "cell_type": "markdown",
   "id": "d650e03e",
   "metadata": {
    "jp-MarkdownHeadingCollapsed": true
   },
   "source": [
    "## Backpropagation for MSE loss and Sigmoid activation function"
   ]
  },
  {
   "cell_type": "markdown",
   "id": "5b147761",
   "metadata": {
    "jp-MarkdownHeadingCollapsed": true
   },
   "source": [
    "### Computing the gradient for node $k$ in output layer $L$"
   ]
  },
  {
   "cell_type": "markdown",
   "id": "5242fee7",
   "metadata": {},
   "source": [
    "$$\\frac{\\partial \\mathcal{L}(z_k(s_k(w_k)))}{\\partial w_{j\\rightarrow k}} = \\underbrace{\\Big(\\frac{\\partial \\mathcal{L}}{\\partial z_k}\\frac{\\partial z_k}{\\partial s_k}\\Big)}_{\\delta_k}  \\frac{\\partial s_k}{\\partial w_{j\\rightarrow k}} = \\delta_k^{(L)} \\cdot z_k^{(L-1)}.$$"
   ]
  },
  {
   "cell_type": "markdown",
   "id": "81ef538d",
   "metadata": {},
   "source": [
    "- The first term of $\\delta_k$ is:\n",
    "\n",
    "$$\\frac{\\partial \\mathcal{L}}{\\partial z_k} =\\frac{\\partial}{\\partial z_k} \\left(\\frac{1}{2}\\sum_{k \\in L=1}^{2} (z_k-y_k)^2 \\right)= (z_k - y_k).$$\n",
    "\n",
    "To see why, expand the series:\n",
    "\n",
    "\\begin{eqnarray}\n",
    "\\frac{\\partial \\mathcal{L}}{\\partial z_{1}} =  \\frac{\\partial}{\\partial z_1}\\frac{\\left(\\sum_{j=0}^{n} (z_j - y_j)^2 \\right)}{2}= \\frac{\\partial}{\\partial z_1}\\frac{(z_0 -y_0)^2}{2}+\\frac{\\partial}{\\partial z_1}\\frac{(z_1 -y_1)^2}{2}+\\cdots +\\frac{\\partial}{\\partial z_1}\\frac{(z_n -y_n)^2}{2}= (z_1 -y_1).\n",
    "\\end{eqnarray}"
   ]
  },
  {
   "cell_type": "markdown",
   "id": "72a16f04",
   "metadata": {},
   "source": [
    "- The second term of $\\delta_k$ is:\n",
    "\n",
    "$$\\frac{\\partial z_k}{\\partial s_k} = \\frac{\\partial}{\\partial s_k} (\\sigma (s_k)) = \\frac{\\partial}{\\partial s_k} \\Bigg(\\frac{1}{1+e^{-s_k}}\\Bigg).$$\n",
    "\n",
    "Using the chain rule of calculus\n",
    "\n",
    "$$\\frac{d}{dx}\\left(f(g(x))\\right) = f'(g(x)) \\cdot g'(x),$$\n",
    "\n",
    "the Sigmoid derivative is\n",
    "\n",
    "\\begin{align}\n",
    "\\frac{\\partial}{\\partial x} \\Bigg(\\frac{1}{1+e^{-x}}\\Bigg) &= \\frac{\\partial}{\\partial x} \\Big(1+e^{-x}\\Big)^{-1}\\\\ \n",
    "&= -\\Big(1+e^{-x}\\Big)^{-2} \\cdot \\frac{\\partial}{\\partial x} \\Big (1+e^{-x}\\Big) \\\\\n",
    "&=-\\Big(1+e^{-x}\\Big)^{-2} \\cdot (- e^{-x})\\\\\n",
    "&= e^{-x}\\Big(1+e^{-x}\\Big)^{-2} \\\\\n",
    "&= \\frac{1}{1+e^{-x}}\\frac{e^{-x}}{1+e^{-x}}\\\\\n",
    "&= \\frac{1}{1+e^{-x}}\\frac{1+e^{-x}-1}{1+e^{-x}}\\\\\n",
    "&= \\frac{1}{1+e^{-x}}\\Bigg(\\frac{1+e^{-x}}{1+e^{-x}}-\\frac{1}{1+e^{-x}}\\Bigg)\\\\\n",
    "&=\\sigma(x) (1-\\sigma(x)).\n",
    "\\end{align} \n",
    "\n",
    "One then has\n",
    "\n",
    "$$\\frac{\\partial z_k^{(L)}}{\\partial s_k} = \\frac{\\partial}{\\partial s_k} (\\sigma (s_k^{(L)})) = \\sigma(s_k) (1-\\sigma(s_k))= z_k(1-z_k).$$"
   ]
  },
  {
   "cell_type": "markdown",
   "id": "1262b943",
   "metadata": {},
   "source": [
    "**The complete gradient for the output layer thus becomes:**\n",
    "\n",
    "$$\\frac{\\partial \\mathcal{L}(z_k(s_k(w_k)))}{\\partial w_{j\\rightarrow k}} = \\delta_k^{(L)} z_k^{(L-1)} = (z_k^{(L)} - y_k)z_k^{(L)}(1-z_k^{(L)})z_k^{(L-1)}.$$"
   ]
  },
  {
   "cell_type": "markdown",
   "id": "9f89466c",
   "metadata": {
    "jp-MarkdownHeadingCollapsed": true
   },
   "source": [
    "### Computing the gradient for the hidden layers\n",
    "\n",
    "The following math takes in consideration that `Sigmoid` is also used in the hidden layers."
   ]
  },
  {
   "cell_type": "markdown",
   "id": "37ecd68d",
   "metadata": {},
   "source": [
    "$$\\frac{\\partial \\mathcal{L}(z_j(s_j(w_j)))}{\\partial w_{i\\rightarrow j}^{(L-1)}} = \\underbrace{\\Big(\\frac{\\partial \\mathcal{L}}{\\partial z_j^{(L-1)}}\\frac{\\partial z_j^{(L-1)}}{\\partial s_j^{(L-1)}}\\Big)}_{\\delta_j}  \\frac{\\partial s_j^{(L-1)}}{\\partial w_{i\\rightarrow j}^{(L-1)}} = \\delta_j^{l} \\cdot z_j^{(l-1)}.$$"
   ]
  },
  {
   "cell_type": "markdown",
   "id": "0525deb7",
   "metadata": {},
   "source": [
    "One can see that the only difference here is the index changed, $k \\rightarrow j$, as we backpropagate from a node $n_k$ in the output layer $L$ to a node $n_j$ in the hidden layer $L-1$."
   ]
  },
  {
   "cell_type": "markdown",
   "id": "53c22cbf",
   "metadata": {},
   "source": [
    "- The first term of $\\delta_j$ is (for an arbitrary layer $l$):\n",
    "\n",
    "\\begin{align*}\n",
    "\\frac{\\partial \\mathcal{L}}{\\partial z_j^{(L-1)}} =  \\sum_{k \\in l=1}^N \\frac{\\partial \\mathcal{L}}{\\partial z_k}\\frac{\\partial z_k}{\\partial s_k}\\frac{\\partial s_k}{\\partial z_j} :=  \\sum_{k \\in l=1}^N  \\delta_k \\frac{\\partial s_k}{\\partial z_j}.\n",
    "\\end{align*}\n",
    "\n",
    "With\n",
    "\n",
    "\\begin{align*}\n",
    "\\frac{\\partial s_k}{\\partial z_j} = \\frac{\\partial}{\\partial z_j} \\left(\\sum_{j=0}^{N-1} w_{j \\rightarrow k}^{(l)} z_j^{(l-1)}+b_k \\right) = \n",
    " w_{j \\rightarrow k}^{(l)} \\cdot \\sum_{j=0}^{N-1} \\frac{\\partial}{\\partial z_j} (z_j^{(l-1)}) = w_{j \\rightarrow k}^{(l)}.\n",
    "\\end{align*}\n",
    "\n",
    "Then\n",
    "\n",
    "\\begin{align*}\n",
    "\\frac{\\partial \\mathcal{L}}{\\partial z_j^{(L-1)}} =  \\sum_{k \\in L=1}^N \\delta_k^{(L)} w_{j\\rightarrow k}^{(L)}.\n",
    "\\end{align*}"
   ]
  },
  {
   "cell_type": "markdown",
   "id": "638d549e",
   "metadata": {},
   "source": [
    "- The second term of $\\delta_j$ is (as before):\n",
    "\n",
    "$$\\frac{\\partial z_j^{(L-1)}}{\\partial s_j} = \\frac{\\partial}{\\partial s_j} (\\sigma (s_j)) = \\frac{\\partial}{\\partial s_j} \\Bigg(\\frac{1}{1+e^{-s_j}}\\Bigg) =  z_j(1-z_j).$$"
   ]
  },
  {
   "cell_type": "markdown",
   "id": "1a20e645",
   "metadata": {},
   "source": [
    "**The complete gradient for the hidden layer thus becomes:**\n",
    "\n",
    "\\begin{align*}\n",
    "\\frac{\\partial \\mathcal{L}(z_j(s_j(w_j)))}{\\partial w_{i\\rightarrow j}} = \\underbrace{\\Big(\\frac{\\partial \\mathcal{L}}{\\partial z_j}\\Big)}_\\text{1st term} \\Big( \\frac{\\partial z_j}{\\partial s_j}\\Big) \\Big(\\frac{\\partial s_j}{\\partial w_{i\\rightarrow j}}\\Big)=\\delta_j^{(l)} z_j^{(l-1)}=\\underbrace{\\left(\\sum_{k \\in l=1}^N \\delta_k^{(l+1)} w_{j\\rightarrow k}\\right)}_\\text{1st term} \\left(z_{j}^{(l)}(1-z_{j}^{(l)}) \\right)z_j^{(l-1)}.\n",
    "\\end{align*}"
   ]
  },
  {
   "cell_type": "markdown",
   "id": "4613ceae",
   "metadata": {
    "jp-MarkdownHeadingCollapsed": true
   },
   "source": [
    "### Summary"
   ]
  },
  {
   "cell_type": "markdown",
   "id": "ad47242f",
   "metadata": {},
   "source": [
    "- Output layer:\n",
    "\n",
    "$$\\frac{\\partial \\mathcal{L}(z_k(s_k(w_k)))}{\\partial w_{j\\rightarrow k}} = \\delta_k z_k^{(l-1)} = (z_k - y_k)z_k(1-z_k)z_k^{(l-1)}.$$\n",
    "\n",
    "- Hdden layer:\n",
    "\n",
    "\\begin{align*}\n",
    "\\frac{\\partial \\mathcal{L}(z_j(s_j(w_j)))}{\\partial w_{i\\rightarrow j}} =\\delta_j z_j^{(l-1)}=\\left(\\sum_{k \\in l=1}^N \\delta_k^{(l+1)} w_{j\\rightarrow k}\\right) z_{j}^{(l)}(1-z_{j}^{(l)})z_j^{(l-1)}.\n",
    "\\end{align*}"
   ]
  },
  {
   "cell_type": "markdown",
   "id": "192883d6",
   "metadata": {
    "jp-MarkdownHeadingCollapsed": true
   },
   "source": [
    "## Backpropagation for Categorical Cross-Entropy loss and Softmax activation function"
   ]
  },
  {
   "cell_type": "markdown",
   "id": "002e4ed1",
   "metadata": {
    "jp-MarkdownHeadingCollapsed": true
   },
   "source": [
    "### Computing the gradient for node $k$ in output layer $L$"
   ]
  },
  {
   "cell_type": "markdown",
   "id": "a22a5af1",
   "metadata": {},
   "source": [
    "$$\\frac{\\partial \\mathcal{L}(z_k(s_k(w_k)))}{\\partial w_{j\\rightarrow k}} = \\underbrace{\\Big(\\frac{\\partial \\mathcal{L}}{\\partial z_k}\\frac{\\partial z_k}{\\partial s_k}\\Big)}_{\\delta_k}  \\frac{\\partial s_k}{\\partial w_{j\\rightarrow k}} = \\delta_k^{(L)} z_k^{(L-1)}.$$"
   ]
  },
  {
   "cell_type": "markdown",
   "id": "a19f9bb8",
   "metadata": {},
   "source": [
    "- The first term of $\\delta_k$ is:\n",
    "\n",
    "\\begin{align*}\n",
    "\\frac{\\partial \\mathcal{L}}{\\partial z_k} &= \\frac{\\partial}{\\partial  z_k}\\left(-\\sum_{i=1}^N y_i \\cdot \\mathrm{log}\\ (z_i)\\right) =  - \\sum_{i=1}^N y_i \\frac{\\partial}{\\partial z_k} \\mathrm{log}(z_i) = - \\sum_{i=1}^N y_i \\frac{\\partial (\\mathrm{log}(z_i))}{\\partial z_i} \\frac{\\partial z_i}{\\partial z_k} \\delta_{ik} =  - \\sum_{i=1}^N y_i \\frac{1}{z_i} \\frac{\\partial z_i}{\\partial z_k}\\delta_{ik} = - \\sum_{k=1}^N \\frac{y_k}{z_k}.\n",
    "\\end{align*}\n",
    "\n",
    "Where $\\delta_{ik}$ is the [Kronecker delta](https://en.wikipedia.org/wiki/Kronecker_delta) used to impose $i=k$ (a.k.a contraction), otherwise the result would be zero. Since due to the summation, at least one element from the derivative is different than zero."
   ]
  },
  {
   "cell_type": "markdown",
   "id": "4edc2a2b",
   "metadata": {},
   "source": [
    "- The second term of $\\delta_k$ is:\n",
    "\n",
    "$$\\frac{\\partial z_k^{(L)}}{\\partial s_k} = \\frac{\\partial}{\\partial s_k} (\\sigma (s_k^{(L)})) = \\frac{\\partial}{\\partial s_k} \\Bigg(\\frac{e^{s_k}}{\\sum_i e^{s_i}}\\Bigg).$$\n",
    "\n",
    "Recall the quotient rule of Calculus for derivatives:\n",
    "\n",
    "$$\\frac{d}{dx}\\left(\\frac{f(x)}{g(x)}\\right) = \\frac{g(x) \\cdot f'(x) - f(x) \\cdot g'(x)}{[g(x)]^2}.$$\n",
    "\n"
   ]
  },
  {
   "cell_type": "markdown",
   "id": "f1ba2186",
   "metadata": {},
   "source": [
    "Since all possible combinations need to be evaluated, one takes the derivative w.r.t a different index. \n",
    "\n",
    "For the numerator (using the chain rule):\n",
    "\n",
    "\\begin{equation}\n",
    "f'(x) = \\frac{\\partial}{\\partial s_j} (e^{s_k}) = \\frac{\\partial (e^{s_k})}{\\partial s_k} \\cdot \\frac{\\partial (s_k)}{\\partial s_j} = e^{s_k} \\frac{\\partial s_k}{\\partial s_k} \\cdot \\frac{\\partial (s_k)}{\\partial s_j} = \n",
    "\\begin{cases}\n",
    "e^{s_k} &\\text{if } k=j, \\\\\n",
    "0 &\\text{if } k \\ne j.\n",
    "\\end{cases}\n",
    "\\end{equation}\n",
    "\n",
    "For the denominator:\n",
    "\n",
    "\\begin{equation}\n",
    "g'(x) = \\frac{\\partial}{\\partial s_j} \\Big(\\sum_{i=1}^n e^{s_i}\\Big) = e^{s_i}\\delta_{ij} =  e^{s_j}. \n",
    "\\end{equation}\n",
    "\n",
    "Again, because of the summation, Kronecker delta can be used to indicate that the derivative is non-zero only when the indices match."
   ]
  },
  {
   "cell_type": "markdown",
   "id": "178116ea",
   "metadata": {},
   "source": [
    "**The Softmax derivative for $k=j$:**\n",
    "\n",
    "\\begin{align}\n",
    "\\frac{\\partial}{\\partial s_j} \\Bigg(\\frac{e^{s_k}}{\\sum_i{e^{s_i}}}\\Bigg) &= \\frac{(\\sum_i{e^{s_i}})e^{s_k}-e^{s_k} e^{s_j}}{(\\sum_i{e^{s_i}})^2} = \\frac{e^{s_k}}{\\sum_i{e^{s_i}}}\\Bigg(1-\\frac{e^{s_j}}{\\sum_i{e^{s_i}}} \\Bigg) \\delta_{jk}\n",
    "= softmax(s_k)\\Bigg(1-softmax(s_k)\\Bigg) = z_k(1-z_k).\n",
    "\\end{align} \n",
    "\n",
    "**The Softmax derivative for $k \\ne j$:**\n",
    "\n",
    "\\begin{align}\n",
    "\\frac{\\partial}{\\partial s_j} \\Bigg(\\frac{e^{s_k}}{\\sum_i{e^{s_i}}}\\Bigg) &= \n",
    "\\frac{0-e^{s_k}e^{s_j}}{(\\sum_i{e^{s_i}})^2}= -\\frac{e^{s_k}}{\\sum_i{e^{s_i}}}\\frac{e^{s_j}}{\\sum_i{e^{s_i}}}=-softmax(s_k)\\cdot softmax(s_j) = -z_kz_j.\n",
    "\\end{align} "
   ]
  },
  {
   "cell_type": "markdown",
   "id": "14505f2c",
   "metadata": {},
   "source": [
    "Combining both cases, one then gets:\n",
    "    \n",
    "\\begin{eqnarray}\n",
    "\\delta_k^{(L)} = \\Big(\\frac{\\partial \\mathcal{L}}{\\partial z_k}\\frac{\\partial z_k}{\\partial s_j}\\Big) \n",
    "&=& - \\sum_{k=1}^N \\frac{y_k}{z_k} \\frac{\\partial z_k}{\\partial s_j} \\\\\n",
    "&=& - \\sum_{k=1}^N \\frac{y_k}{z_k} z_j (\\delta_{kj} - z_k)\\\\\n",
    "&=& - \\sum_{k=1}^N \\frac{y_k}{z_k} z_k(1-z_k) - \\sum_{j=1, j\\ne k}^N  \\frac{y_j}{z_j}  \\Big(-z_j z_k\\Big) \\\\\n",
    "&=& - \\frac{y_k}{z_k} z_k(1-z_k) - \\sum_{j=1, j\\ne k}^N  \\frac{y_j}{z_j}  \\Big(-z_j z_k\\Big) \\\\\n",
    "&=& - y_k+y_k z_k+\\sum_{j=1, j\\ne k}^N y_j z_k \\\\\n",
    "&=& - y_k + z_k\\Big(y_k + \\sum_{j=1, j\\ne k}^N y_j \\Big)\\\\\n",
    "&=& - y_k + z_k \\underbrace{\\Big(\\sum_{j=1}^N y_j \\Big)}_\\text{=1}\\\\\n",
    "&=& - y_k + z_k = z_k - y_k.\n",
    "\\end{eqnarray}\n",
    "\n",
    "Recall that $y_k$ is the ground truth probability distribution and, therefore, it adds up to one."
   ]
  },
  {
   "cell_type": "markdown",
   "id": "ed66398b",
   "metadata": {},
   "source": [
    "**The complete gradient for the output layer thus becomes:**\n",
    "\n",
    "$$\\frac{\\partial \\mathcal{L}(z_k(s_k(w_k)))}{\\partial w_{j\\rightarrow k}} = \\delta_k^{(L)} z_k^{(L-1)} = (z_k^{(L)}-y_k) z_k^{(L-1)}.$$"
   ]
  },
  {
   "cell_type": "markdown",
   "id": "59e3aade",
   "metadata": {
    "jp-MarkdownHeadingCollapsed": true
   },
   "source": [
    "### Computing the gradient for the hidden layers"
   ]
  },
  {
   "cell_type": "markdown",
   "id": "f2d8fa77",
   "metadata": {},
   "source": [
    "- **First approach:**\n",
    "\n",
    "$$\\frac{\\partial \\mathcal{L}(z_j(s_j(w_j)))}{\\partial w_{i\\rightarrow j}^{(l-1)}} = \\underbrace{\\Big(\\frac{\\partial \\mathcal{L}}{\\partial z_j^{(l-1)}}\\frac{\\partial z_j^{(l-1)}}{\\partial s_j^{(l-1)}}\\Big)}_{\\delta_j}  \\frac{\\partial s_j^{(l-1)}}{\\partial w_{i\\rightarrow j}^{(l-1)}} = \\delta_j^{l} \\cdot z_j^{(l-1)}.$$\n",
    "\n",
    "The first term of $\\delta_j$ (for an arbitrary layer $l$) is :\n",
    "\n",
    "\\begin{align*}\n",
    "\\frac{\\partial \\mathcal{L}}{\\partial z_j^{(l-1)}} =  \\sum_{k \\in l=1}^N \\Big(\\frac{\\partial \\mathcal{L}}{\\partial z_k}\\frac{\\partial z_k}{\\partial s_k}\\Big)\\frac{\\partial s_k}{\\partial z_j} =  \\sum_{k \\in l=1}^N  (z_k^{(l)}-y_k) \\frac{\\partial s_k}{\\partial z_j}.\n",
    "\\end{align*}\n",
    "\n",
    "With\n",
    "\n",
    "\\begin{align*}\n",
    "\\frac{\\partial s_k}{\\partial z_j} = \\frac{\\partial}{\\partial z_j} \\left(\\sum_{j=0}^{N-1} w_{j \\rightarrow k} z_j^{(l-1)}+b_k \\right) = \n",
    " w_{j \\rightarrow k}^{(l)} \\cdot \\sum_{j=0}^{N-1} \\frac{\\partial}{\\partial z_j} (z_j^{(l-1)}) = w_{j \\rightarrow k}.\n",
    "\\end{align*}\n",
    "\n",
    "Hence,\n",
    "\n",
    "\\begin{align*}\n",
    "\\frac{\\partial \\mathcal{L}}{\\partial z_j^{(l-1)}} =  \\sum_{k \\in L=1}^N (z_k^{(l)}-y_k) w_{j\\rightarrow k}.\n",
    "\\end{align*}\n",
    "\n",
    "The second term of $\\delta_j$ is:\n",
    "\n",
    "\\begin{align*}\n",
    "\\frac{\\partial z_j^{(l-1)}}{\\partial s_j^{(l-1)}} = \\sigma'(s_j^{(l-1)}).\n",
    "\\end{align*}\n",
    "\n",
    "Finally, \n",
    "\n",
    "\\begin{align*}\n",
    "\\frac{\\partial \\mathcal{L}(z_j(s_j(w_j)))}{\\partial w_{i\\rightarrow j}^{(l-1)}} =  \\sum_{k \\in l=1}^N (z_k^{(l)}-y_k) w_{j\\rightarrow k} \\sigma'(s_j^{(l-1)})z_{j}^{(l-2)}.\n",
    "\\end{align*}"
   ]
  },
  {
   "cell_type": "markdown",
   "id": "a902ea97",
   "metadata": {},
   "source": [
    "- **Second approach:**\n",
    "\n",
    "\n",
    "$$\\frac{\\partial \\mathcal{L}(z_j(s_j(w_j)))}{\\partial w_{i\\rightarrow j}^{(l-1)}} = \\frac{\\partial \\mathcal{L}}{\\partial s_j^{(l-1)}} \\frac{\\partial s_j^{(l-1)}}{\\partial w_{i\\rightarrow j}^{(l-1)}} = \\frac{\\partial \\mathcal{L}}{\\partial s_j^{(l-1)}} z_{j}^{(l-2)}.$$\n",
    "\n",
    "The first term has the following chain rule:\n",
    "\n",
    "\\begin{align*}\n",
    "\\frac{\\partial \\mathcal{L}}{\\partial s_j^{(l-1)}} =  \\sum_{k \\in l=1}^N \\frac{\\partial \\mathcal{L}}{\\partial s_k^{(l)}}\\frac{\\partial s_k^{(l)}}{\\partial z_j^{(l-1)}}\\frac{\\partial z_j^{(l-1)}}{\\partial s_j^{(l-1)}}.\n",
    "\\end{align*}\n",
    "\n",
    "Where:\n",
    "\n",
    "\\begin{align*}\n",
    "\\frac{\\partial \\mathcal{L}}{\\partial s_k^{(l)}} = \\Big(\\frac{\\partial \\mathcal{L}}{\\partial z_j}\\frac{\\partial z_j}{\\partial s_k}\\Big)  = z_k^{(l)}-y_k.\n",
    "\\end{align*}\n",
    "\n",
    "\\begin{align*}\n",
    "\\frac{\\partial s_k^{(l)}}{\\partial z_j^{(l-1)}} = \\frac{\\partial}{\\partial z_j^{(l-1)}} \\left(\\sum_{j=0}^{N-1} w_{j \\rightarrow k}^{(l)} z_j^{(l-1)}+b_k \\right) = \n",
    " w_{j \\rightarrow k}^{(l)} \\cdot \\sum_{j=0}^{N-1} \\frac{\\partial}{\\partial z_j^{(l-1)}} (z_j^{(l-1)}) = w_{j \\rightarrow k}^{(l)}.\n",
    "\\end{align*}\n",
    "\n",
    "\\begin{align*}\n",
    "\\frac{\\partial z_j^{(l-1)}}{\\partial s_j^{(l-1)}} = \\sigma'(s_j^{(l-1)}).\n",
    "\\end{align*}\n",
    "\n",
    "Finally, \n",
    "\n",
    "\\begin{align*}\n",
    "\\frac{\\partial \\mathcal{L}(z_j(s_j(w_j)))}{\\partial w_{i\\rightarrow j}^{(l-1)}} =  \\sum_{k \\in l=1}^N (z_k^{(l)}-y_k) w_{j\\rightarrow k} \\sigma'(s_j^{(l-1)})z_{j}^{(l-2)}.\n",
    "\\end{align*}"
   ]
  },
  {
   "cell_type": "markdown",
   "id": "f20ef4c7",
   "metadata": {
    "jp-MarkdownHeadingCollapsed": true
   },
   "source": [
    "### Summary"
   ]
  },
  {
   "cell_type": "markdown",
   "id": "0ad74bc1",
   "metadata": {},
   "source": [
    "- Output layer:\n",
    "\n",
    "$$\\frac{\\partial \\mathcal{L}(z_k(s_k(w_k)))}{\\partial w_{j\\rightarrow k}} = \\delta_k^{(L)} z_k^{(L-1)} = (z_k^{(L)}-y_k) z_k^{(L-1)}.$$\n",
    "\n",
    "- Hdden layer:\n",
    "\n",
    "\\begin{align*}\n",
    "\\frac{\\partial \\mathcal{L}(z_j(s_j(w_j)))}{\\partial w_{i\\rightarrow j}} =\\delta_j z_j^{(l-2)} = \\Big((z_k^{(l)}-y_k) w_{j\\rightarrow k} \\sigma'(s_j^{(l-1)}) \\Big) z_j^{(l-2)}.\n",
    "\\end{align*}"
   ]
  },
  {
   "cell_type": "markdown",
   "id": "c4d72592",
   "metadata": {
    "jp-MarkdownHeadingCollapsed": true
   },
   "source": [
    "## Backpropagation for Categorical Cross-Entropy loss with Softmax in the output layer and Sigmoid in the hidden layers"
   ]
  },
  {
   "cell_type": "markdown",
   "id": "35b54350",
   "metadata": {},
   "source": [
    "In this case, the gradient for the output layer is the one considering Softmax. And the gradient for the hidden layers is the one considering Sigmoid. \n",
    "\n",
    "Those results have already being calculated before.\n",
    "\n",
    "- Output layer with Softmax:\n",
    "\n",
    "$$\\frac{\\partial \\mathcal{L}(z_k(s_k(w_k)))}{\\partial w_{j\\rightarrow k}} = \\delta_k^{(L)} z_k^{(L-1)} = (z_k^{(L)}-y_k) z_k^{(L-1)}.$$\n",
    "\n",
    "- Hdden layer with Sigmoid:\n",
    "\n",
    "\\begin{align*}\n",
    "\\frac{\\partial \\mathcal{L}(z_j(s_j(w_j)))}{\\partial w_{i\\rightarrow j}} =\\delta_j z_j^{(l-1)}=\\left(\\sum_{k \\in l=1}^N \\delta_k^{(l+1)} w_{j\\rightarrow k}\\right) z_{j}^{(l)}(1-z_{j}^{(l)})z_j^{(l-1)}.\n",
    "\\end{align*}"
   ]
  }
 ],
 "metadata": {
  "colab": {
   "collapsed_sections": [
    "06cf633e",
    "43d6e6e4",
    "cf21b8ba",
    "74d5fcaf",
    "3YbdBPcKFfRs",
    "GOeK7f48Fkx-",
    "6he0uNVlFoVH",
    "4gJVJsFvFqrO",
    "psK5gEtJrqKw",
    "jZWMQ7sg09rE",
    "QfTvr8YR7qyD",
    "I_nTfh0f1AX8",
    "7ad71d31",
    "5fb0b399",
    "93cca21e",
    "7704cba4",
    "a5845cf2",
    "a2924544",
    "4b435331",
    "50e8cac5",
    "c52219e9",
    "903908d5",
    "e440d65b"
   ],
   "provenance": []
  },
  "kernelspec": {
   "display_name": "Python 3 (ipykernel)",
   "language": "python",
   "name": "python3"
  },
  "language_info": {
   "codemirror_mode": {
    "name": "ipython",
    "version": 3
   },
   "file_extension": ".py",
   "mimetype": "text/x-python",
   "name": "python",
   "nbconvert_exporter": "python",
   "pygments_lexer": "ipython3",
   "version": "3.11.5"
  }
 },
 "nbformat": 4,
 "nbformat_minor": 5
}
